{
 "cells": [
  {
   "cell_type": "markdown",
   "id": "536da936",
   "metadata": {},
   "source": [
    "<table align=\"left\" width=100%>\n",
    "    <tr>\n",
    "        <td width=\"12%\">\n",
    "            <img src=\"../../images/RA_Logo.png\">\n",
    "        </td>\n",
    "        <td>\n",
    "            <div align=\"center\">\n",
    "                <font color=\"#21618C\" size=8px>\n",
    "                  <b> Quadriatic Equation - 4 </b>\n",
    "                </font>\n",
    "            </div>\n",
    "        </td>\n",
    "    </tr>\n",
    "</table>"
   ]
  },
  {
   "cell_type": "markdown",
   "id": "aa5504d3",
   "metadata": {},
   "source": [
    "<table align=\"left\">\n",
    "  <td>\n",
    "    <a href=\"https://colab.research.google.com/github/vidyadharbendre/learn_advanced_python_using_examples/blob/main/notebooks/OOPs/4_04_Class__Test_Find_Roots_Quadratic_Equation.ipynb\" target=\"_parent\"><img src=\"https://colab.research.google.com/assets/colab-badge.svg\" alt=\"Open In Colab\"/></a>\n",
    "  </td>\n",
    "  <td>\n",
    "    <a target=\"_blank\" href=\"https://kaggle.com/kernels/welcome?src=https://github.com/vidyadharbendre/learn_advanced_python_using_examples/blob/main/notebooks/OOPs/4_04_Class__Test_Find_Roots_Quadratic_Equation.ipynb\"><img src=\"https://kaggle.com/static/images/open-in-kaggle.svg\" /></a>\n",
    "  </td>\n",
    "</table>"
   ]
  },
  {
   "cell_type": "code",
   "execution_count": 2,
   "id": "1983caef",
   "metadata": {},
   "outputs": [
    {
     "name": "stdout",
     "output_type": "stream",
     "text": [
      "Equation: 1x^2 + -3x + 2 = 0\n",
      "Discriminant: 1\n",
      "Roots: (2.0, 1.0)\n",
      "Positive Root: 1.0\n"
     ]
    }
   ],
   "source": [
    "# quadratic/quadratic_equation.py content\n",
    "import math\n",
    "\n",
    "class QuadraticEquation:\n",
    "    def __init__(self, a, b, c):\n",
    "        self.a = a\n",
    "        self.b = b\n",
    "        self.c = c\n",
    "    \n",
    "    def calculate_discriminant(self):\n",
    "        return self.b ** 2 - 4 * self.a * self.c\n",
    "    \n",
    "    def find_roots(self):\n",
    "        discriminant = self.calculate_discriminant()\n",
    "        \n",
    "        if discriminant >= 0:\n",
    "            root1 = (-self.b + math.sqrt(discriminant)) / (2 * self.a)\n",
    "            root2 = (-self.b - math.sqrt(discriminant)) / (2 * self.a)\n",
    "            return root1, root2\n",
    "        else:\n",
    "            return None, None\n",
    "    \n",
    "    def get_positive_root(self):\n",
    "        root1, root2 = self.find_roots()\n",
    "        if root1 is not None and root2 is not None:\n",
    "            if root1 > 0 and root2 > 0:\n",
    "                return min(root1, root2)\n",
    "            elif root1 > 0:\n",
    "                return root1\n",
    "            elif root2 > 0:\n",
    "                return root2\n",
    "            else:\n",
    "                return \"No positive root\"\n",
    "        else:\n",
    "            return \"No real roots\"\n",
    "\n",
    "# Test the QuadraticEquation class\n",
    "a, b, c = 1, -3, 2\n",
    "equation = QuadraticEquation(a, b, c)\n",
    "print(f\"Equation: {a}x^2 + {b}x + {c} = 0\")\n",
    "print(f\"Discriminant: {equation.calculate_discriminant()}\")\n",
    "roots = equation.find_roots()\n",
    "print(f\"Roots: {roots}\")\n",
    "print(f\"Positive Root: {equation.get_positive_root()}\")\n"
   ]
  },
  {
   "cell_type": "code",
   "execution_count": null,
   "id": "96c4826c",
   "metadata": {},
   "outputs": [],
   "source": []
  }
 ],
 "metadata": {
  "kernelspec": {
   "display_name": "Python 3 (ipykernel)",
   "language": "python",
   "name": "python3"
  },
  "language_info": {
   "codemirror_mode": {
    "name": "ipython",
    "version": 3
   },
   "file_extension": ".py",
   "mimetype": "text/x-python",
   "name": "python",
   "nbconvert_exporter": "python",
   "pygments_lexer": "ipython3",
   "version": "3.9.16"
  }
 },
 "nbformat": 4,
 "nbformat_minor": 5
}
