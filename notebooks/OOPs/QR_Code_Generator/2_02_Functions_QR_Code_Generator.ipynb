{
 "cells": [
  {
   "cell_type": "markdown",
   "id": "22798de6",
   "metadata": {},
   "source": [
    "<table align=\"left\" width=100%>\n",
    "    <tr>\n",
    "        <td width=\"12%\">\n",
    "            <img src=\"../../images/RA_Logo.png\">\n",
    "        </td>\n",
    "        <td>\n",
    "            <div align=\"center\">\n",
    "                <font color=\"#21618C\" size=8px>\n",
    "                  <b> QR Code Generation - 2 </b>\n",
    "                </font>\n",
    "            </div>\n",
    "        </td>\n",
    "    </tr>\n",
    "</table>"
   ]
  },
  {
   "cell_type": "markdown",
   "id": "15737f9d",
   "metadata": {},
   "source": [
    "<table align=\"left\">\n",
    "  <td>\n",
    "    <a href=\"https://colab.research.google.com/github/vidyadharbendre/learn_advanced_python_using_examples/blob/main/notebooks/OOPs/2_02_Functions_QR_Code_Generator.ipynb\" target=\"_parent\"><img src=\"https://colab.research.google.com/assets/colab-badge.svg\" alt=\"Open In Colab\"/></a>\n",
    "  </td>\n",
    "  <td>\n",
    "    <a target=\"_blank\" href=\"https://kaggle.com/kernels/welcome?src=https://github.com/vidyadharbendre/learn_advanced_python_using_examples/blob/main/notebooks/OOPs/2_02_Functions_QR_Code_Generator.ipynb\"><img src=\"https://kaggle.com/static/images/open-in-kaggle.svg\" /></a>\n",
    "  </td>\n",
    "</table>"
   ]
  },
  {
   "cell_type": "code",
   "execution_count": 2,
   "id": "6972dcea",
   "metadata": {},
   "outputs": [],
   "source": [
    "#conda install -c conda-forge qrcode"
   ]
  },
  {
   "cell_type": "code",
   "execution_count": 3,
   "id": "47b92dcd",
   "metadata": {},
   "outputs": [],
   "source": [
    "import qrcode"
   ]
  },
  {
   "cell_type": "code",
   "execution_count": 4,
   "id": "02bc197c",
   "metadata": {},
   "outputs": [],
   "source": [
    "def create_qr_code(URL, filename=\"qrcode.png\"):\n",
    "    qr = qrcode.QRCode(\n",
    "        version=1,\n",
    "        error_correction=qrcode.constants.ERROR_CORRECT_L,\n",
    "        box_size=10,\n",
    "        border=4,\n",
    "    )\n",
    "    qr.add_data(URL)\n",
    "    qr.make(fit=True)\n",
    "    img = qr.make_image(fill='black', back_color='white')\n",
    "    img.save(filename)"
   ]
  },
  {
   "cell_type": "code",
   "execution_count": 8,
   "id": "41819a02",
   "metadata": {},
   "outputs": [],
   "source": [
    "# Example usage\n",
    "create_qr_code(\"https://github.com/vidyadharbendre/learn_computer_vision_using_examples/blob/main/modules/module_1/concepts/24_pixel_resolution_README.md\", \"pixel_resolution_qrcode.png\")"
   ]
  },
  {
   "cell_type": "code",
   "execution_count": 9,
   "id": "82c44c22",
   "metadata": {},
   "outputs": [
    {
     "name": "stdout",
     "output_type": "stream",
     "text": [
      "total 72\r\n",
      "drwxr-xr-x  11 vidyadharbendre  staff   352 Oct  6 08:15 \u001b[34m.\u001b[m\u001b[m\r\n",
      "drwxr-xr-x  13 vidyadharbendre  staff   416 Aug  6 20:15 \u001b[34m..\u001b[m\u001b[m\r\n",
      "drwxr-xr-x@  6 vidyadharbendre  staff   192 Jul 31 14:07 \u001b[34m.ipynb_checkpoints\u001b[m\u001b[m\r\n",
      "-rw-r--r--@  1 vidyadharbendre  staff  3881 Jul 31 14:05 2_01_No_Functions_QR_Code_Generator.ipynb\r\n",
      "-rw-r--r--@  1 vidyadharbendre  staff  4959 Oct  6 08:15 2_02_Functions_QR_Code_Generator.ipynb\r\n",
      "-rw-r--r--@  1 vidyadharbendre  staff  3365 Jul 31 14:09 2_03_Class_QR_Code_Generator.ipynb\r\n",
      "-rw-r--r--@  1 vidyadharbendre  staff  4479 Jul 31 14:15 2_04_Class_QR_Code_Generator.ipynb\r\n",
      "-rw-r--r--@  1 vidyadharbendre  staff   567 Jul 31 14:11 example\r\n",
      "-rw-r--r--@  1 vidyadharbendre  staff   597 Jul 31 14:09 example_qrcode.png\r\n",
      "-rw-r--r--@  1 vidyadharbendre  staff  1363 Oct  6 08:21 pixel_resolution_qrcode.png\r\n",
      "drwxr-xr-x   7 vidyadharbendre  staff   224 Jul 31 14:33 \u001b[34mqrcode_project\u001b[m\u001b[m\r\n"
     ]
    }
   ],
   "source": [
    "!ls -la"
   ]
  },
  {
   "cell_type": "code",
   "execution_count": 7,
   "id": "a2131042",
   "metadata": {},
   "outputs": [
    {
     "name": "stdout",
     "output_type": "stream",
     "text": [
      "/Users/vidyadharbendre/workspace/advanced_python/learn_advanced_python_using_examples/notebooks/OOPs/QR_Code_Generator\r\n"
     ]
    }
   ],
   "source": [
    "!pwd"
   ]
  },
  {
   "cell_type": "code",
   "execution_count": null,
   "id": "1bedf1ab",
   "metadata": {},
   "outputs": [],
   "source": []
  }
 ],
 "metadata": {
  "kernelspec": {
   "display_name": "Python 3 (ipykernel)",
   "language": "python",
   "name": "python3"
  },
  "language_info": {
   "codemirror_mode": {
    "name": "ipython",
    "version": 3
   },
   "file_extension": ".py",
   "mimetype": "text/x-python",
   "name": "python",
   "nbconvert_exporter": "python",
   "pygments_lexer": "ipython3",
   "version": "3.9.16"
  }
 },
 "nbformat": 4,
 "nbformat_minor": 5
}
