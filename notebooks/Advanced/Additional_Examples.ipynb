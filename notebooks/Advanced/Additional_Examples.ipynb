{
 "cells": [
  {
   "cell_type": "code",
   "execution_count": null,
   "id": "51c84957",
   "metadata": {},
   "outputs": [],
   "source": []
  },
  {
   "cell_type": "markdown",
   "id": "7af159e8",
   "metadata": {},
   "source": [
    "<table align=\"left\">\n",
    "  <td>\n",
    "    <a href=\"https://colab.research.google.com/github/vidyadharbendre/learn_advanced_python_using_examples/blob/main/notebooks/Advanced/Additional_Examples.ipynb\" target=\"_parent\"><img src=\"https://colab.research.google.com/assets/colab-badge.svg\" alt=\"Open In Colab\"/></a>\n",
    "  </td>\n",
    "  <td>\n",
    "    <a target=\"_blank\" href=\"https://kaggle.com/kernels/welcome?src=https://github.com/vidyadharbendre/learn_advanced_python_using_examples/blob/main/notebooks/Advanced/Additional_Examples.ipynb\"><img src=\"https://kaggle.com/static/images/open-in-kaggle.svg\" /></a>\n",
    "  </td>\n",
    "</table>"
   ]
  },
  {
   "cell_type": "code",
   "execution_count": null,
   "id": "4375d298",
   "metadata": {},
   "outputs": [],
   "source": [
    "import numpy as np\n",
    "import pandas as pd\n",
    "import matplotlib.pyplot as plt"
   ]
  },
  {
   "cell_type": "code",
   "execution_count": null,
   "id": "9b68db44",
   "metadata": {},
   "outputs": [],
   "source": []
  },
  {
   "cell_type": "code",
   "execution_count": null,
   "id": "2138d5c9",
   "metadata": {},
   "outputs": [],
   "source": [
    "# Set mean and standard deviation for the normal distribution\n",
    "mean_marks = 75\n",
    "std_dev = 10\n",
    "\n",
    "# Generate 100 marks using normal distribution\n",
    "marks = np.random.normal(mean_marks, std_dev, 100)\n",
    "\n",
    "# Create a DataFrame with the generated marks\n",
    "df = pd.DataFrame({'Marks': marks})\n",
    "\n",
    "# Print the first few rows of the DataFrame\n",
    "print(\"DataFrame with Marks:\")\n",
    "print(df.head())\n",
    "\n",
    "# Visualize the distribution of marks\n",
    "plt.hist(marks, bins=20, edgecolor='black')\n",
    "plt.xlabel('Marks')\n",
    "plt.ylabel('Frequency')\n",
    "plt.title('Distribution of Marks')\n",
    "plt.grid(True)\n",
    "plt.show()"
   ]
  }
 ],
 "metadata": {
  "kernelspec": {
   "display_name": "Python 3 (ipykernel)",
   "language": "python",
   "name": "python3"
  },
  "language_info": {
   "codemirror_mode": {
    "name": "ipython",
    "version": 3
   },
   "file_extension": ".py",
   "mimetype": "text/x-python",
   "name": "python",
   "nbconvert_exporter": "python",
   "pygments_lexer": "ipython3",
   "version": "3.9.16"
  }
 },
 "nbformat": 4,
 "nbformat_minor": 5
}
