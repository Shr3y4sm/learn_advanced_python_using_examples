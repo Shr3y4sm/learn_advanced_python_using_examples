{
 "cells": [
  {
   "cell_type": "code",
   "execution_count": 1,
   "id": "855fee7d",
   "metadata": {},
   "outputs": [],
   "source": [
    "class Hotel:\n",
    "    def __init__(self, name, available_rooms):\n",
    "        self.name = name\n",
    "        self.available_rooms = available_rooms\n",
    "\n",
    "    def book_room(self):\n",
    "        if self.available_rooms > 0:\n",
    "            self.available_rooms -= 1\n",
    "            print(f\"Room booked at {self.name}. Rooms left: {self.available_rooms}\")\n",
    "        else:\n",
    "            print(f\"No rooms available at {self.name}\")"
   ]
  },
  {
   "cell_type": "code",
   "execution_count": 2,
   "id": "3a25e877",
   "metadata": {},
   "outputs": [],
   "source": [
    "class Booking:\n",
    "    def __init__(self):\n",
    "        self.hotels = []\n",
    "\n",
    "    def add_hotel(self, hotel):\n",
    "        self.hotels.append(hotel)\n",
    "        print(f\"Added hotel: {hotel.name}\")\n",
    "\n",
    "    def list_hotels(self):\n",
    "        for hotel in self.hotels:\n",
    "            print(f\"Hotel: {hotel.name}, Available Rooms: {hotel.available_rooms}\")"
   ]
  },
  {
   "cell_type": "code",
   "execution_count": 3,
   "id": "d9608d97",
   "metadata": {},
   "outputs": [
    {
     "name": "stdout",
     "output_type": "stream",
     "text": [
      "Added hotel: Grand Hotel\n",
      "Added hotel: City Inn\n",
      "Hotel: Grand Hotel, Available Rooms: 20\n",
      "Hotel: City Inn, Available Rooms: 10\n",
      "Room booked at Grand Hotel. Rooms left: 19\n",
      "Room booked at City Inn. Rooms left: 9\n",
      "Hotel: Grand Hotel, Available Rooms: 19\n",
      "Hotel: City Inn, Available Rooms: 9\n"
     ]
    }
   ],
   "source": [
    "def main():\n",
    "    booking = Booking()\n",
    "\n",
    "    hotel1 = Hotel(\"Grand Hotel\", 20)\n",
    "    hotel2 = Hotel(\"City Inn\", 10)\n",
    "\n",
    "    booking.add_hotel(hotel1)\n",
    "    booking.add_hotel(hotel2)\n",
    "\n",
    "    booking.list_hotels()\n",
    "\n",
    "    hotel1.book_room()\n",
    "    hotel2.book_room()\n",
    "\n",
    "    booking.list_hotels()\n",
    "\n",
    "# Run the main function\n",
    "main()"
   ]
  },
  {
   "cell_type": "code",
   "execution_count": null,
   "id": "350f04a8",
   "metadata": {},
   "outputs": [],
   "source": []
  }
 ],
 "metadata": {
  "kernelspec": {
   "display_name": "Python 3 (ipykernel)",
   "language": "python",
   "name": "python3"
  },
  "language_info": {
   "codemirror_mode": {
    "name": "ipython",
    "version": 3
   },
   "file_extension": ".py",
   "mimetype": "text/x-python",
   "name": "python",
   "nbconvert_exporter": "python",
   "pygments_lexer": "ipython3",
   "version": "3.9.16"
  }
 },
 "nbformat": 4,
 "nbformat_minor": 5
}
