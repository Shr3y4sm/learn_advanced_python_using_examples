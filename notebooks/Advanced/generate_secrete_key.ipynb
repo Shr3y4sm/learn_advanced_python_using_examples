{
 "cells": [
  {
   "cell_type": "code",
   "execution_count": 1,
   "id": "05588798",
   "metadata": {},
   "outputs": [
    {
     "name": "stdout",
     "output_type": "stream",
     "text": [
      "b'\\x95\\xcbfU\\xa1\\xcf\\xab\\xab2\\x9f\\x0b\\xa7,\\x13Z\\x81\\x14&\\xd2\\x9a\\xfdP\\x04\\xf1\\xb8'\n"
     ]
    }
   ],
   "source": [
    "import os\n",
    "secret_key = os.urandom(25)\n",
    "print(secret_key)"
   ]
  },
  {
   "cell_type": "code",
   "execution_count": null,
   "id": "4524b5d5",
   "metadata": {},
   "outputs": [],
   "source": []
  }
 ],
 "metadata": {
  "kernelspec": {
   "display_name": "Python 3 (ipykernel)",
   "language": "python",
   "name": "python3"
  },
  "language_info": {
   "codemirror_mode": {
    "name": "ipython",
    "version": 3
   },
   "file_extension": ".py",
   "mimetype": "text/x-python",
   "name": "python",
   "nbconvert_exporter": "python",
   "pygments_lexer": "ipython3",
   "version": "3.9.16"
  }
 },
 "nbformat": 4,
 "nbformat_minor": 5
}
