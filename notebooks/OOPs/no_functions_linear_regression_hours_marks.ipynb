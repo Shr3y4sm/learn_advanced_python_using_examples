{
 "cells": [
  {
   "cell_type": "code",
   "execution_count": 1,
   "id": "73850b5d",
   "metadata": {},
   "outputs": [],
   "source": [
    "import numpy as np\n",
    "import pandas as pd\n",
    "import matplotlib.pyplot as plt\n",
    "import statsmodels.api as sm\n",
    "from sklearn.model_selection import train_test_split\n",
    "from sklearn.metrics import r2_score\n",
    "from sklearn.linear_model import LinearRegression as SklearnLinearRegression"
   ]
  },
  {
   "cell_type": "code",
   "execution_count": 4,
   "id": "c1757566",
   "metadata": {},
   "outputs": [],
   "source": [
    "# Generate some data\n",
    "np.random.seed(42)\n",
    "X = 2 * np.random.rand(25, 1)\n",
    "y = 4 + 3 * X + np.random.randn(25, 1)\n",
    "\n",
    "# Split data into training and testing sets\n",
    "X_train, X_test, y_train, y_test = train_test_split(X, y, test_size=0.2, random_state=42)"
   ]
  },
  {
   "cell_type": "code",
   "execution_count": 5,
   "id": "b1d377a2",
   "metadata": {},
   "outputs": [
    {
     "name": "stdout",
     "output_type": "stream",
     "text": [
      "StatsModels Summary:\n",
      "                            OLS Regression Results                            \n",
      "==============================================================================\n",
      "Dep. Variable:                      y   R-squared:                       0.816\n",
      "Model:                            OLS   Adj. R-squared:                  0.806\n",
      "Method:                 Least Squares   F-statistic:                     80.07\n",
      "Date:                Tue, 04 Jun 2024   Prob (F-statistic):           4.80e-08\n",
      "Time:                        10:02:46   Log-Likelihood:                -27.584\n",
      "No. Observations:                  20   AIC:                             59.17\n",
      "Df Residuals:                      18   BIC:                             61.16\n",
      "Df Model:                           1                                         \n",
      "Covariance Type:            nonrobust                                         \n",
      "==============================================================================\n",
      "                 coef    std err          t      P>|t|      [0.025      0.975]\n",
      "------------------------------------------------------------------------------\n",
      "const          3.8889      0.405      9.607      0.000       3.038       4.739\n",
      "x1             3.5723      0.399      8.948      0.000       2.734       4.411\n",
      "==============================================================================\n",
      "Omnibus:                        3.457   Durbin-Watson:                   1.897\n",
      "Prob(Omnibus):                  0.178   Jarque-Bera (JB):                1.987\n",
      "Skew:                           0.760   Prob(JB):                        0.370\n",
      "Kurtosis:                       3.271   Cond. No.                         3.27\n",
      "==============================================================================\n",
      "\n",
      "Notes:\n",
      "[1] Standard Errors assume that the covariance matrix of the errors is correctly specified.\n",
      "StatsModels R-squared: 0.592222072054527\n"
     ]
    }
   ],
   "source": [
    "# StatsModels Linear Regression model\n",
    "X_train_b = sm.add_constant(X_train)\n",
    "sm_model = sm.OLS(y_train, X_train_b).fit()\n",
    "\n",
    "X_test_b = sm.add_constant(X_test)\n",
    "sm_predictions = sm_model.predict(X_test_b)\n",
    "sm_r2 = r2_score(y_test, sm_predictions)\n",
    "\n",
    "print(f\"StatsModels Summary:\\n{sm_model.summary()}\")\n",
    "print(f\"StatsModels R-squared: {sm_r2}\")"
   ]
  },
  {
   "cell_type": "code",
   "execution_count": null,
   "id": "4ec6ee51",
   "metadata": {},
   "outputs": [],
   "source": []
  }
 ],
 "metadata": {
  "kernelspec": {
   "display_name": "Python 3 (ipykernel)",
   "language": "python",
   "name": "python3"
  },
  "language_info": {
   "codemirror_mode": {
    "name": "ipython",
    "version": 3
   },
   "file_extension": ".py",
   "mimetype": "text/x-python",
   "name": "python",
   "nbconvert_exporter": "python",
   "pygments_lexer": "ipython3",
   "version": "3.9.16"
  }
 },
 "nbformat": 4,
 "nbformat_minor": 5
}
