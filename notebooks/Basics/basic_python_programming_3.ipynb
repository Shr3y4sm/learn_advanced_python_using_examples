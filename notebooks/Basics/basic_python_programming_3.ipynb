{
 "cells": [
  {
   "cell_type": "code",
   "execution_count": null,
   "metadata": {},
   "outputs": [],
   "source": [
    "<table align=\"center\" width=100%>\n",
    "    <tr>\n",
    "        <td width=\"12%\">\n",
    "            <img src=\"../images/RA_Logo.png\">\n",
    "        </td>\n",
    "        <td>\n",
    "            <div align=\"center\">\n",
    "                <font color=\"#21618C\" size=8px>\n",
    "                    <b> Basic Python Programming <br>(Day 3)\n",
    "                    </b>\n",
    "                </font>\n",
    "            </div>\n",
    "        </td>\n",
    "    </tr>\n",
    "</table>"
   ]
  },
  {
   "cell_type": "markdown",
   "metadata": {},
   "source": [
    "## Table of Content\n",
    "\n",
    "1. **[Python Flow Control](#flow_control)**\n",
    "2. **[List Comprehension](#lc)**\n",
    "\n"
   ]
  },
  {
   "cell_type": "markdown",
   "metadata": {},
   "source": [
    "### Let's begin with some hands-on practice exercises"
   ]
  },
  {
   "cell_type": "markdown",
   "metadata": {},
   "source": [
    "<a id= \"flow_control\"> </a>\n",
    "## 1. Python Flow Control"
   ]
  },
  {
   "cell_type": "markdown",
   "metadata": {},
   "source": [
    "<table align=\"left\">\n",
    "    <tr>\n",
    "        <td width=\"6%\">\n",
    "            <img src=\"../images/RA_Logo.png\">\n",
    "        </td>\n",
    "        <td>\n",
    "            <div align=\"left\", style=\"font-size:120%\">\n",
    "                <font color=\"#21618C\">\n",
    "                    <b>1. Write a code to print table of 5 using assignment operand +=.</b>\n",
    "                </font>\n",
    "            </div>\n",
    "        </td>\n",
    "    </tr>\n",
    "</table>"
   ]
  },
  {
   "cell_type": "code",
   "execution_count": 2,
   "metadata": {},
   "outputs": [
    {
     "name": "stdout",
     "output_type": "stream",
     "text": [
      "5 X 1 = 5\n",
      "5 X 2 = 10\n",
      "5 X 3 = 15\n",
      "5 X 4 = 20\n",
      "5 X 5 = 25\n",
      "5 X 6 = 30\n",
      "5 X 7 = 35\n",
      "5 X 8 = 40\n",
      "5 X 9 = 45\n",
      "5 X 10 = 50\n"
     ]
    }
   ],
   "source": [
    "#1. Write a code to print table of 5 using assignment operand +=.\n",
    "# type your code here\n",
    "a = 0\n",
    "for i in range(1, 11):\n",
    "    a += 5\n",
    "    print('5', 'X', i, '=',  a)\n",
    "\n",
    "\n"
   ]
  },
  {
   "cell_type": "markdown",
   "metadata": {},
   "source": [
    "<table align=\"left\">\n",
    "    <tr>\n",
    "        <td width=\"6%\">\n",
    "            <img src=\"../images/RA_Logo.png\">\n",
    "        </td>\n",
    "        <td>\n",
    "            <div align=\"left\", style=\"font-size:120%\">\n",
    "                <font color=\"#21618C\">\n",
    "                    <b>2. Write a program for generating a fibonacci series starting with 0 and 1 for the next 10 values using a while loop. </b>\n",
    "                </font>\n",
    "            </div>\n",
    "        </td>\n",
    "    </tr>\n",
    "</table>"
   ]
  },
  {
   "cell_type": "code",
   "execution_count": 3,
   "metadata": {},
   "outputs": [
    {
     "name": "stdout",
     "output_type": "stream",
     "text": [
      "0\n",
      "1\n",
      "1\n",
      "2\n",
      "3\n",
      "5\n",
      "8\n",
      "13\n",
      "21\n",
      "34\n",
      "55\n",
      "89\n"
     ]
    }
   ],
   "source": [
    "#2. Write a program for generating a fibonacci series starting with 0 and 1 for the next 10 values \n",
    "#using a while loop.\n",
    "# type your code here  \n",
    "\n",
    "\n",
    "# first two terms\n",
    "num1, num2 = 0, 1\n",
    "count = 0\n",
    "\n",
    "while count < 12:\n",
    "    print(num1)\n",
    "    total = num1 + num2\n",
    "    # update values\n",
    "    num1 = num2\n",
    "    num2 = total\n",
    "    count += 1\n",
    "\n"
   ]
  },
  {
   "cell_type": "markdown",
   "metadata": {},
   "source": [
    "<table align=\"left\">\n",
    "    <tr>\n",
    "        <td width=\"6%\">\n",
    "            <img src=\"../images/RA_Logo.png\">\n",
    "        </td>\n",
    "        <td>\n",
    "            <div align=\"left\", style=\"font-size:120%\">\n",
    "                <font color=\"#21618C\">\n",
    "                    <b>3. Write a program to check whether a number is greater than the other using if statement (take the input from user).</b>\n",
    "                </font>\n",
    "            </div>\n",
    "        </td>\n",
    "    </tr>\n",
    "</table>"
   ]
  },
  {
   "cell_type": "code",
   "execution_count": 69,
   "metadata": {},
   "outputs": [
    {
     "name": "stdout",
     "output_type": "stream",
     "text": [
      "Enter the first number12\n",
      "Enter the second number45\n",
      "First number entered 12 is not greater than the second number 45\n"
     ]
    }
   ],
   "source": [
    "#3. Write a program to check whether a number is greater than the other using \n",
    "#if statement (take the input from user).\n",
    "# type your code here\n",
    "\n",
    "n1 = input(\"Enter the first number :\")\n",
    "n2 = input (\"Enter the second number :\")\n",
    "\n",
    "if (n1 > n2):\n",
    "    print(\"First number entered {} is greater than the second number {}\".format(n1, n2))\n",
    "else:\n",
    "    print(\"First number entered {} is not greater than the second number {}\".format(n1, n2))\n"
   ]
  },
  {
   "cell_type": "markdown",
   "metadata": {},
   "source": [
    "<table align=\"left\">\n",
    "    <tr>\n",
    "        <td width=\"6%\">\n",
    "            <img src=\"../images/RA_Logo.png\">\n",
    "        </td>\n",
    "        <td>\n",
    "            <div align=\"left\", style=\"font-size:120%\">\n",
    "                <font color=\"#21618C\">\n",
    "                    <b>4. Write a code to check whether a number is divisible by 7 or not (take the input from user). </b>\n",
    "                </font>\n",
    "            </div>\n",
    "        </td>\n",
    "    </tr>\n",
    "</table>"
   ]
  },
  {
   "cell_type": "code",
   "execution_count": 5,
   "metadata": {},
   "outputs": [
    {
     "name": "stdout",
     "output_type": "stream",
     "text": [
      "Enter a number to see it is divisble by 7 or not8\n",
      "The entered number 8 is NOT divisible by 7\n"
     ]
    }
   ],
   "source": [
    "#4. Write a code to check whether a number is divisible by 7 or not (take the input from user).\n",
    "# type your code here\n",
    "\n",
    "num_div = int(input(\"Enter a number to see it is divisble by 7 or not\"))\n",
    "if (num_div % 7) == 0:\n",
    "    print(\"The entered number {} is divisible by 7\".format(num_div))\n",
    "else:\n",
    "    print(\"The entered number {} is NOT divisible by 7\".format(num_div))\n",
    "\n",
    "    \n",
    "\n"
   ]
  },
  {
   "cell_type": "markdown",
   "metadata": {},
   "source": [
    "<table align=\"left\">\n",
    "    <tr>\n",
    "        <td width=\"6%\">\n",
    "            <img src=\"../images/RA_Logo.png\">\n",
    "        </td>\n",
    "        <td>\n",
    "            <div align=\"left\", style=\"font-size:120%\">\n",
    "                <font color=\"#21618C\">\n",
    "                    <b>5. Write a code to find factorial of a number (take the input from user). </b>\n",
    "                </font>\n",
    "            </div>\n",
    "        </td>\n",
    "    </tr>\n",
    "</table>"
   ]
  },
  {
   "cell_type": "code",
   "execution_count": 6,
   "metadata": {},
   "outputs": [
    {
     "name": "stdout",
     "output_type": "stream",
     "text": [
      "Enter a number to find factorial :5\n",
      "120\n"
     ]
    }
   ],
   "source": [
    "#5. Write a code to find factorial of a number (take the input from user).\n",
    "# type your code here\n",
    "\n",
    "fact_input = int(input(\"Enter a number to find factorial :\"))\n",
    "fact_total = 1\n",
    "\n",
    "for i in range(fact_input, 1, -1):\n",
    "    fact_total *= i\n",
    "\n",
    "print(fact_total)\n",
    "\n"
   ]
  },
  {
   "cell_type": "markdown",
   "metadata": {},
   "source": [
    "<table align=\"left\">\n",
    "    <tr>\n",
    "        <td width=\"6%\">\n",
    "            <img src=\"../images/RA_Logo.png\">\n",
    "        </td>\n",
    "        <td>\n",
    "            <div align=\"left\", style=\"font-size:120%\">\n",
    "                <font color=\"#21618C\">\n",
    "                    <b>6. Write a program to check whether a number is prime or not (take the input from user).</b>\n",
    "                </font>\n",
    "            </div>\n",
    "        </td>\n",
    "    </tr>\n",
    "</table>"
   ]
  },
  {
   "cell_type": "code",
   "execution_count": 7,
   "metadata": {},
   "outputs": [
    {
     "name": "stdout",
     "output_type": "stream",
     "text": [
      "Enter a number to check wheather is prime or not5\n",
      "The entered number 5 is a prime number\n"
     ]
    }
   ],
   "source": [
    "#6. Write a program to check whether a number is prime or not (take the input from user).\n",
    "# type your code here\n",
    "\n",
    "prime_num = int(input(\"Enter a number to check wheather is prime or not\"))\n",
    "\n",
    "def isPrime(num):  #  return True if the num is prime else return False\n",
    "    if num < 2:\n",
    "        return False\n",
    "       \n",
    "    for div in range(2, round(num**0.5)+1):\n",
    "        if num % div == 0:\n",
    "            return False\n",
    "            \n",
    "    return True\n",
    "\n",
    "\n",
    "if isPrime(prime_num):\n",
    "    print(\"The entered number {} is a prime number\".format(prime_num))\n",
    "else:\n",
    "    print(\"The entered number {} is not a prime number\".format(prime_num))\n",
    "\n",
    "\n",
    "\n",
    "\n"
   ]
  },
  {
   "cell_type": "markdown",
   "metadata": {},
   "source": [
    "<table align=\"left\">\n",
    "    <tr>\n",
    "        <td width=\"6%\">\n",
    "            <img src=\"../images/RA_Logo.png\">\n",
    "        </td>\n",
    "        <td>\n",
    "            <div align=\"left\", style=\"font-size:120%\">\n",
    "                <font color=\"#21618C\">\n",
    "                    <b>7. Write a program to check whether two numbers are amicable or not (take the input from user).</b>\n",
    "                </font>\n",
    "            </div>\n",
    "        </td>\n",
    "    </tr>\n",
    "</table>"
   ]
  },
  {
   "cell_type": "markdown",
   "metadata": {},
   "source": [
    "7. Write a program to check whether two numbers are amicable or not (take the input from user)."
   ]
  },
  {
   "cell_type": "code",
   "execution_count": 8,
   "metadata": {
    "scrolled": true
   },
   "outputs": [
    {
     "name": "stdout",
     "output_type": "stream",
     "text": [
      "Enter a first number4\n",
      "Enter a second number6\n",
      "3 6\n",
      "6 4\n",
      "The entered first number 4 and the second number 6 are not amicable\n"
     ]
    }
   ],
   "source": [
    "#7. Write a program to check whether two numbers are amicable or not (take the input from user).\n",
    "# type your code here\n",
    "\n",
    "\n",
    "# find the divisors!\n",
    "\n",
    "def findSumDivisors(num):\n",
    "    sum = 0\n",
    "    for i in range(1, num):\n",
    "        if num % i == 0:\n",
    "            sum += i\n",
    "#        print(sum)\n",
    "    return sum\n",
    "\n",
    "num1 = int(input(\"Enter a first number\"))\n",
    "num2 = int(input(\"Enter a second number\"))\n",
    "\n",
    "sum1 = findSumDivisors(num1)\n",
    "print(sum1, num2)\n",
    "\n",
    "sum2 = findSumDivisors(num2)\n",
    "print(sum2, num1)\n",
    "\n",
    "if (sum1 == num2) and sum2 == num1:\n",
    "    print(\"The entered first number {} and the second number {} are amicable\".format(num1, num2))\n",
    "else:\n",
    "    print(\"The entered first number {} and the second number {} are not amicable\".format(num1, num2))\n"
   ]
  },
  {
   "cell_type": "markdown",
   "metadata": {},
   "source": [
    "<table align=\"left\">\n",
    "    <tr>\n",
    "        <td width=\"6%\">\n",
    "            <img src=\"../images/RA_Logo.png\">\n",
    "        </td>\n",
    "        <td>\n",
    "            <div align=\"left\", style=\"font-size:120%\">\n",
    "                <font color=\"#21618C\">\n",
    "                    <b>8. Reverse string using a for loop (take the input from user).</b>\n",
    "                </font>\n",
    "            </div>\n",
    "        </td>\n",
    "    </tr>\n",
    "</table>"
   ]
  },
  {
   "cell_type": "code",
   "execution_count": 9,
   "metadata": {},
   "outputs": [
    {
     "name": "stdout",
     "output_type": "stream",
     "text": [
      "Enter a stringRAR\n",
      "RAR  RAR\n"
     ]
    }
   ],
   "source": [
    "#8. Reverse string using a for loop (take the input from user).\n",
    "# type your code here\n",
    "\n",
    "input_string = input(\"Enter a string\")\n",
    "reverse_string = \" \"\n",
    "\n",
    "# other_string = input_string[::-1]\n",
    "# print(other_string)\n",
    "\n",
    "for i in range(1, len(input_string)+1):\n",
    "    \n",
    "    reverse_string = reverse_string + input_string[-i]\n",
    "    \n",
    "print(input_string, reverse_string)"
   ]
  },
  {
   "cell_type": "markdown",
   "metadata": {},
   "source": [
    "<table align=\"left\">\n",
    "    <tr>\n",
    "        <td width=\"6%\">\n",
    "            <img src=\"../images/RA_Logo.png\">\n",
    "        </td>\n",
    "        <td>\n",
    "            <div align=\"left\", style=\"font-size:120%\">\n",
    "                <font color=\"#21618C\">\n",
    "                    <b>9. Write a code to find the average of given numbers (take the input from user).</b>\n",
    "                </font>\n",
    "            </div>\n",
    "        </td>\n",
    "    </tr>\n",
    "</table>"
   ]
  },
  {
   "cell_type": "code",
   "execution_count": 10,
   "metadata": {},
   "outputs": [
    {
     "name": "stdout",
     "output_type": "stream",
     "text": [
      "How many numbers that you want to take an average3\n",
      "Enter the 1 number - one by one by hitting enter key :1\n",
      "Enter the 2 number - one by one by hitting enter key :2\n",
      "Enter the 3 number - one by one by hitting enter key :3\n",
      "Average : 2.0\n"
     ]
    }
   ],
   "source": [
    "#9. Write a code to find the average of given numbers (take the input from user).\n",
    "# type your code here\n",
    "\n",
    "total_num = int(input(\"How many numbers that you want to take an average\"))\n",
    "\n",
    "num_sum = 0\n",
    "n = 0\n",
    "while (n < total_num):\n",
    "    n += 1\n",
    "    num = int(input(\"Enter the {} number - one by one by hitting enter key :\".format(n)))\n",
    "    num_sum += num\n",
    "print(\"Average :\", num_sum/total_num)\n"
   ]
  },
  {
   "cell_type": "markdown",
   "metadata": {},
   "source": [
    "<table align=\"left\">\n",
    "    <tr>\n",
    "        <td width=\"6%\">\n",
    "            <img src=\"../images/RA_Logo.png\">\n",
    "        </td>\n",
    "        <td>\n",
    "            <div align=\"left\", style=\"font-size:120%\">\n",
    "                <font color=\"#21618C\">\n",
    "                    <b>10. Write a program to find the area of a circle for a given radius (take the input from user).</b>\n",
    "                </font>\n",
    "            </div>\n",
    "        </td>\n",
    "    </tr>\n",
    "</table>"
   ]
  },
  {
   "cell_type": "code",
   "execution_count": 46,
   "metadata": {},
   "outputs": [
    {
     "name": "stdout",
     "output_type": "stream",
     "text": [
      "Enter the raidus of the circle to find out the area of the circle 2\n",
      "The area of the circle is 12.56 for the given radius 2 \n"
     ]
    }
   ],
   "source": [
    "#10. Write a program to find the area of a circle for a given radius (take the input from user).\n",
    "# type your code here\n",
    "# pi * r * r\n",
    "\n",
    "pi = round(22/7, 2)\n",
    "r = int(input(\"Enter the raidus of the circle to find out the area of the circle \"))\n",
    "area = pi * r * r\n",
    "print(\"The area of the circle is {} for the given radius {} \".format(round(area,2), r))\n",
    "\n",
    "\n"
   ]
  },
  {
   "cell_type": "code",
   "execution_count": 36,
   "metadata": {},
   "outputs": [
    {
     "data": {
      "text/plain": [
       "3.142857142857143"
      ]
     },
     "execution_count": 36,
     "metadata": {},
     "output_type": "execute_result"
    }
   ],
   "source": [
    "22/7"
   ]
  },
  {
   "cell_type": "markdown",
   "metadata": {},
   "source": [
    "<table align=\"left\">\n",
    "    <tr>\n",
    "        <td width=\"6%\">\n",
    "            <img src=\"../images/RA_Logo.png\">\n",
    "        </td>\n",
    "        <td>\n",
    "            <div align=\"left\", style=\"font-size:120%\">\n",
    "                <font color=\"#21618C\">\n",
    "                    <b>11. Write a code to find the simple interest (take the input from user).</b>\n",
    "                </font>\n",
    "            </div>\n",
    "        </td>\n",
    "    </tr>\n",
    "</table>"
   ]
  },
  {
   "cell_type": "code",
   "execution_count": 11,
   "metadata": {},
   "outputs": [
    {
     "name": "stdout",
     "output_type": "stream",
     "text": [
      "Enter principla amount :1000\n",
      "Enter rate of interest :8\n",
      "Enter time period in years :1\n",
      "simple interest : 800.0\n",
      "simple interest : 80.0\n"
     ]
    }
   ],
   "source": [
    "#11. Write a code to find the simple interest (take the input from user).\n",
    "# type your code here\n",
    "\n",
    "def simpIntCal(p, t, r):\n",
    "    return (p * t * r)/100\n",
    "\n",
    "p = float(input(\"Enter principla amount :\"))\n",
    "r = float(input(\"Enter rate of interest :\"))\n",
    "t = float(input(\"Enter time period in years :\"))\n",
    "\n",
    "simple_interest = simpIntCal(10000, 8, 1)\n",
    "print(\"simple interest :\", simple_interest)\n",
    "\n",
    "simple_interest = simpIntCal(p, t, r)\n",
    "print(\"simple interest :\", simple_interest)\n",
    "\n",
    "\n"
   ]
  },
  {
   "cell_type": "markdown",
   "metadata": {},
   "source": [
    "<a id= \"lc\"> </a>\n",
    "## 2. List Comprehension"
   ]
  },
  {
   "cell_type": "markdown",
   "metadata": {},
   "source": [
    "<table align=\"left\">\n",
    "    <tr>\n",
    "        <td width=\"6%\">\n",
    "            <img src=\"../images/RA_Logo.png\">\n",
    "        </td>\n",
    "        <td>\n",
    "            <div align=\"left\", style=\"font-size:120%\">\n",
    "                <font color=\"#21618C\">\n",
    "                    <b>12. Use list comprehension to obtain the squre root of first 10 natural numbers.</b>\n",
    "                </font>\n",
    "            </div>\n",
    "        </td>\n",
    "    </tr>\n",
    "</table>"
   ]
  },
  {
   "cell_type": "code",
   "execution_count": 12,
   "metadata": {},
   "outputs": [
    {
     "name": "stdout",
     "output_type": "stream",
     "text": [
      "[1.0, 1.41, 1.73, 2.0, 2.24, 2.45, 2.65, 2.83, 3.0]\n"
     ]
    }
   ],
   "source": [
    "#12. Use list comprehension to obtain the squre root of first 10 natural numbers.\n",
    "# type your code here\n",
    "\n",
    "sqrt_num = [ round(i**0.5,2) for i in range(1, 10)]\n",
    "print(sqrt_num)\n",
    "\n",
    "\n"
   ]
  },
  {
   "cell_type": "markdown",
   "metadata": {},
   "source": [
    "<table align=\"left\">\n",
    "    <tr>\n",
    "        <td width=\"6%\">\n",
    "            <img src=\"../images/RA_Logo.png\">\n",
    "        </td>\n",
    "        <td>\n",
    "            <div align=\"left\", style=\"font-size:120%\">\n",
    "                <font color=\"#21618C\">\n",
    "                    <b>13. Use list comprehension to find the used vowels in a given sentence and/or word (take the input from user). </b>\n",
    "                </font>\n",
    "            </div>\n",
    "        </td>\n",
    "    </tr>\n",
    "</table>"
   ]
  },
  {
   "cell_type": "code",
   "execution_count": 13,
   "metadata": {},
   "outputs": [
    {
     "name": "stdout",
     "output_type": "stream",
     "text": [
      "Enter sentence or word to know the vowels in it   : Vidyadhar Bendre\n",
      "['i', 'a', 'a', 'e', 'e']\n"
     ]
    }
   ],
   "source": [
    "#13. Use list comprehension to find the used vowels in a given sentence and/or word (take the input from user).\n",
    "# type your code here\n",
    "\n",
    "input_user = input(\"Enter sentence or word to know the vowels in it   : \")\n",
    "vowels = 'aeiouAEIOU'\n",
    "\n",
    "output_vowel = [ ch for ch in input_user if ch in vowels]\n",
    "print(output_vowel)\n"
   ]
  },
  {
   "cell_type": "markdown",
   "metadata": {},
   "source": [
    "<table align=\"left\">\n",
    "    <tr>\n",
    "        <td width=\"6%\">\n",
    "            <img src=\"../images/RA_Logo.png\">\n",
    "        </td>\n",
    "        <td>\n",
    "            <div align=\"left\", style=\"font-size:120%\">\n",
    "                <font color=\"#21618C\">\n",
    "                    <b>14. Create a dictionary and access it values using a condition on its key. The data is given below. Let the condidtion on the key is that it should be a even number.</b>\n",
    "                </font>\n",
    "            </div>\n",
    "       </td>\n",
    "    </tr>\n",
    "</table>\n"
   ]
  },
  {
   "cell_type": "markdown",
   "metadata": {},
   "source": [
    "<table>\n",
    "<tr>\n",
    "    <th>Key</th>\n",
    "    <td>1</td>\n",
    "    <td>2</td>\n",
    "    <td>3</td>\n",
    "    <td>4</td> \n",
    "    <td>5</td> \n",
    "</tr>\n",
    "<tr>\n",
    "    <th>Name</th>\n",
    "    <td>Aman</td>\n",
    "    <td>Mohit</td>\n",
    "    <td>Guari</td>\n",
    "    <td>Imran</td>\n",
    "    <td>Roma</td\n",
    "     </tr>\n",
    "<tr>\n",
    "    <th>Marks</th>\n",
    "    <td>24</td>\n",
    "    <td>25</td>\n",
    "    <td>26</td>\n",
    "    <td>24</td>\n",
    "    <td>27</td>\n",
    "   </tr>\n",
    "</table>"
   ]
  },
  {
   "cell_type": "code",
   "execution_count": 15,
   "metadata": {},
   "outputs": [
    {
     "name": "stdout",
     "output_type": "stream",
     "text": [
      "{'Name': 'Mohit', 'Marks': 25}\n",
      "{'Name': 'Imran', 'Marks': 24}\n",
      "{2: {'Name': 'Mohit', 'Marks': 25}, 4: {'Name': 'Imran', 'Marks': 24}}\n"
     ]
    }
   ],
   "source": [
    "#14. Create a dictionary and access it values using a condition on its key. The data is given below. Let the condidtion on the key is that it should be a even number.\n",
    "# type your code here\n",
    "\n",
    "\n",
    "students = {1:{'Name': 'Arman', 'Marks': 24}, 2:{'Name': 'Mohit', 'Marks': 25}, 3:{'Name':'Gauri', 'Marks':26}, 4:{'Name':'Imran', 'Marks': 24}, 5: {'Name': 'Roma', 'Marks': 27}}\n",
    "\n",
    "for key, values in students.items():\n",
    "    if key % 2 == 0:\n",
    "        print(students[key])\n",
    "\n",
    "even_students = {key:values for key, values in students.items()  if key % 2 == 0 }\n",
    "print(even_students)"
   ]
  },
  {
   "cell_type": "markdown",
   "metadata": {},
   "source": [
    "<table align=\"left\">\n",
    "    <tr>\n",
    "        <td width=\"6%\">\n",
    "            <img src=\"../images/RA_Logo.png\">\n",
    "        </td>\n",
    "        <td>\n",
    "            <div align=\"left\", style=\"font-size:120%\">\n",
    "                <font color=\"#21618C\">\n",
    "                    <b>15. Use list comprehension to find even and odd numbers from first 20 whole numbers.</b>\n",
    "                </font>\n",
    "            </div>\n",
    "        </td>\n",
    "    </tr>\n",
    "</table>"
   ]
  },
  {
   "cell_type": "code",
   "execution_count": 16,
   "metadata": {},
   "outputs": [
    {
     "name": "stdout",
     "output_type": "stream",
     "text": [
      "[(0, 'Even number'), (1, 'odd number'), (2, 'Even number'), (3, 'odd number'), (4, 'Even number'), (5, 'odd number'), (6, 'Even number'), (7, 'odd number'), (8, 'Even number'), (9, 'odd number'), (10, 'Even number'), (11, 'odd number'), (12, 'Even number'), (13, 'odd number'), (14, 'Even number'), (15, 'odd number'), (16, 'Even number'), (17, 'odd number'), (18, 'Even number'), (19, 'odd number')]\n"
     ]
    }
   ],
   "source": [
    "#15. Use list comprehension to find even and odd numbers from first 20 whole numbers.\n",
    "# type your code here\n",
    "\n",
    "\n",
    "odd_even_list = [(i, \"Even number\") if i % 2 == 0 else (i, \"odd number\") for i in range(20)]\n",
    "print(odd_even_list)\n"
   ]
  },
  {
   "cell_type": "markdown",
   "metadata": {},
   "source": [
    "<table align=\"left\">\n",
    "    <tr>\n",
    "        <td width=\"6%\">\n",
    "            <img src=\"../images/RA_Logo.png\">\n",
    "        </td>\n",
    "        <td>\n",
    "            <div align=\"left\", style=\"font-size:120%\">\n",
    "                <font color=\"#21618C\">\n",
    "                    <b>16. Use list comprehension to print numbers divisible  by 2 and 3 in between 1 and 100. </b>\n",
    "                </font>\n",
    "            </div>\n",
    "        </td>\n",
    "    </tr>\n",
    "</table>"
   ]
  },
  {
   "cell_type": "code",
   "execution_count": 17,
   "metadata": {},
   "outputs": [
    {
     "name": "stdout",
     "output_type": "stream",
     "text": [
      "[6, 12, 18, 24, 30, 36, 42, 48, 54, 60, 66, 72, 78, 84, 90, 96]\n"
     ]
    }
   ],
   "source": [
    "#16. Use list comprehension to print numbers divisible by 2 and 3 in between 1 and 100.\n",
    "# type your code here\n",
    "\n",
    "\n",
    "div_2_3_list = [ num  for num in range(1, 100) if (num % 2 == 0) and (num % 3 == 0) ]\n",
    "print(div_2_3_list)\n"
   ]
  },
  {
   "cell_type": "markdown",
   "metadata": {},
   "source": [
    "<table align=\"left\">\n",
    "    <tr>\n",
    "        <td width=\"6%\">\n",
    "            <img src=\"../images/RA_Logo.png\">\n",
    "        </td>\n",
    "        <td>\n",
    "            <div align=\"left\", style=\"font-size:120%\">\n",
    "                <font color=\"#21618C\">\n",
    "                    <b>17. Use list comprehension to create a dictionary such that its keys are numbers from 1 to 10 and values are the corresponding to that key are its cube.</b>\n",
    "                </font>\n",
    "            </div>\n",
    "        </td>\n",
    "    </tr>\n",
    "</table>"
   ]
  },
  {
   "cell_type": "code",
   "execution_count": 18,
   "metadata": {},
   "outputs": [
    {
     "name": "stdout",
     "output_type": "stream",
     "text": [
      "[(1, 1), (2, 8), (3, 27), (4, 64), (5, 125), (6, 216), (7, 343), (8, 512), (9, 729), (10, 1000)]\n",
      "{1: 1, 2: 8, 3: 27, 4: 64, 5: 125, 6: 216, 7: 343, 8: 512, 9: 729, 10: 1000}\n",
      "{1: 1, 2: 8, 3: 27, 4: 64, 5: 125, 6: 216, 7: 343, 8: 512, 9: 729, 10: 1000}\n"
     ]
    }
   ],
   "source": [
    "#17. Use list comprehension to create a dictionary such that its keys are numbers from 1 to 10 \n",
    "#and values are the corresponding to that key are its cube.\n",
    "# type your code here\n",
    "\n",
    "\n",
    "l1 = [(num, num**3) for num in range(1, 11)]\n",
    "print(l1)\n",
    "d1 = { key : value for key, value in l1 }\n",
    "\n",
    "print(d1)\n",
    "     \n",
    "d2 = { num: num**3   for num in range(1,11)}\n",
    "print(d2)"
   ]
  },
  {
   "cell_type": "markdown",
   "metadata": {},
   "source": [
    "<table align=\"left\">\n",
    "    <tr>\n",
    "        <td width=\"6%\">\n",
    "            <img src=\"../images/RA_Logo.png\">\n",
    "        </td>\n",
    "        <td>\n",
    "            <div align=\"left\", style=\"font-size:120%\">\n",
    "                <font color=\"#21618C\">\n",
    "                    <b>18. Use list comprehension to extract numbers from a string </b>\n",
    "                </font>\n",
    "            </div>\n",
    "        </td>\n",
    "    </tr>\n",
    "</table>"
   ]
  },
  {
   "cell_type": "code",
   "execution_count": 19,
   "metadata": {},
   "outputs": [
    {
     "name": "stdout",
     "output_type": "stream",
     "text": [
      "['1', '9', '1', '1']\n"
     ]
    }
   ],
   "source": [
    "#18. Use list comprehension to extract numbers from a string\n",
    "# type your code here\n",
    "\n",
    "input_string = 'Karnataka extends COVID-19 lockdown in 11 districts'\n",
    "\n",
    "output_string = [i for i in input_string if i.isdigit()]\n",
    "print(output_string)\n",
    "\n",
    "\n",
    "\n"
   ]
  },
  {
   "cell_type": "markdown",
   "metadata": {},
   "source": [
    "<table align=\"left\">\n",
    "    <tr>\n",
    "        <td width=\"6%\">\n",
    "            <img src=\"../images/RA_Logo.png\">\n",
    "        </td>\n",
    "        <td>\n",
    "            <div align=\"left\", style=\"font-size:120%\">\n",
    "                <font color=\"#21618C\">\n",
    "                    <b>19. Use list comprehension to print table of 11 to 20 as shown below.</b>\n",
    "                </font>\n",
    "            </div>\n",
    "        </td>\n",
    "    </tr>\n",
    "</table>"
   ]
  },
  {
   "cell_type": "markdown",
   "metadata": {},
   "source": [
    "<table>\n",
    "<tr>\n",
    "    <td>11</td><td>22</td><td>33</td><td>44</td><td>55</td><td>66</td><td>77</td><td>88</td><td>99</td><td>110</td> \n",
    "</tr>\n",
    "    \n",
    "<tr>\n",
    "    <td>12</td><td>24</td><td>36</td><td>48</td><td>60</td><td>72</td><td>84</td><td>96</td><td>108</td><td>120</td> \n",
    "</tr>\n",
    "\n",
    "<tr>\n",
    "    <td>13</td><td>36</td><td>39</td><td>52</td><td>65</td><td>78</td><td>91</td><td>104</td><td>117</td><td>130</td> \n",
    "</tr> \n",
    "\n",
    "<tr>\n",
    "     <td>14</td><td>28</td><td>42</td><td>56</td><td>70</td> <td>84</td><td>98</td><td>112</td><td>126</td><td>140</td> \n",
    "</tr>\n",
    "\n",
    "<tr>\n",
    "     <td>15</td><td>30</td><td>45</td><td>60</td><td>75</td><td>90</td><td>105</td><td>120</td><td>135</td><td>150</td> \n",
    "</tr>\n",
    "\n",
    "<tr>\n",
    "     <td>16</td><td>32</td><td>48</td><td>64</td><td>80</td><td>96</td><td>112</td><td>128</td><td>144</td><td>160</td> \n",
    "</tr> \n",
    "\n",
    "<tr>\n",
    "     <td>17</td><td>34</td><td>51</td><td>68</td><td>85</td><td>102</td><td>119</td><td>136</td><td>153</td><td>170</td> \n",
    "</tr> \n",
    "\n",
    "<tr>\n",
    "     <td>18</td><td>36</td><td>54</td><td>72</td><td>90</td> <td>108</td><td>126</td><td>144</td><td>162</td><td>180</td> \n",
    "</tr>\n",
    "\n",
    "<tr>\n",
    " <td>19</td><td>38</td><td>57</td><td>76</td><td>95</td><td>114</td><td>133</td><td>152</td><td>171</td><td>190</td> \n",
    "</tr>\n",
    "\n",
    "<tr>\n",
    "     <td>20</td><td>40</td><td>60</td><td>80</td><td>100</td><td>120</td><td>140</td><td>160</td><td>180</td><td>200</td> \n",
    "<tr>    \n",
    "    \n",
    "</table>"
   ]
  },
  {
   "cell_type": "code",
   "execution_count": 21,
   "metadata": {},
   "outputs": [
    {
     "name": "stdout",
     "output_type": "stream",
     "text": [
      "11 22 33 44 55 66 77 88 99 110 \n",
      "12 24 36 48 60 72 84 96 108 120 \n",
      "13 26 39 52 65 78 91 104 117 130 \n",
      "14 28 42 56 70 84 98 112 126 140 \n",
      "15 30 45 60 75 90 105 120 135 150 \n",
      "16 32 48 64 80 96 112 128 144 160 \n",
      "17 34 51 68 85 102 119 136 153 170 \n",
      "18 36 54 72 90 108 126 144 162 180 \n",
      "19 38 57 76 95 114 133 152 171 190 \n",
      "20 40 60 80 100 120 140 160 180 200 \n",
      "[[ 11  22  33  44  55  66  77  88  99 110]\n",
      " [ 12  24  36  48  60  72  84  96 108 120]\n",
      " [ 13  26  39  52  65  78  91 104 117 130]\n",
      " [ 14  28  42  56  70  84  98 112 126 140]\n",
      " [ 15  30  45  60  75  90 105 120 135 150]\n",
      " [ 16  32  48  64  80  96 112 128 144 160]\n",
      " [ 17  34  51  68  85 102 119 136 153 170]\n",
      " [ 18  36  54  72  90 108 126 144 162 180]\n",
      " [ 19  38  57  76  95 114 133 152 171 190]\n",
      " [ 20  40  60  80 100 120 140 160 180 200]]\n",
      "\n",
      "\n",
      "\n",
      "[[ 11  22  33  44  55  66  77  88  99 110]\n",
      " [ 12  24  36  48  60  72  84  96 108 120]\n",
      " [ 13  26  39  52  65  78  91 104 117 130]\n",
      " [ 14  28  42  56  70  84  98 112 126 140]\n",
      " [ 15  30  45  60  75  90 105 120 135 150]\n",
      " [ 16  32  48  64  80  96 112 128 144 160]\n",
      " [ 17  34  51  68  85 102 119 136 153 170]\n",
      " [ 18  36  54  72  90 108 126 144 162 180]\n",
      " [ 19  38  57  76  95 114 133 152 171 190]\n",
      " [ 20  40  60  80 100 120 140 160 180 200]]\n"
     ]
    }
   ],
   "source": [
    "import numpy as np\n",
    "#19. Use list comprehension to print table of 11 to 20 as shown below.\n",
    "# type your code here\n",
    "\n",
    "for i in range(11, 21): \n",
    "    for j in range(1, 11):\n",
    "        print(i*j, end = ' ')\n",
    "    print(end = '\\n')\n",
    "\n",
    "\n",
    "output_list = [ (i*j) for i in range(11, 21) for j in range(1, 11)] \n",
    "#print(output_list)\n",
    "\n",
    "new_1 = np.array(output_list).reshape(10, 10)\n",
    "print(new_1)\n",
    "\n",
    "print('\\n\\n')\n",
    "\n",
    "new_2 = np.array([ (i*j) for i in range(11, 21) for j in range(1, 11)]).reshape(10, 10)\n",
    "print(new_2)\n"
   ]
  },
  {
   "cell_type": "markdown",
   "metadata": {},
   "source": [
    "<table align=\"left\">\n",
    "    <tr>\n",
    "        <td width=\"6%\">\n",
    "            <img src=\"../images/RA_Logo.png\">\n",
    "        </td>\n",
    "        <td>\n",
    "            <div align=\"left\", style=\"font-size:120%\">\n",
    "                <font color=\"#21618C\">\n",
    "                    <b>20. Use list comprehension to find transpose of the matrix given below.</b>\n",
    "                </font>\n",
    "            </div>\n",
    "        </td>\n",
    "    </tr>\n",
    "</table>"
   ]
  },
  {
   "cell_type": "markdown",
   "metadata": {},
   "source": [
    "<table>\n",
    "    <tr>\n",
    "        <td>1</td>\n",
    "        <td>2</td>\n",
    "    </tr>\n",
    "    <tr>\n",
    "        <td>3</td>\n",
    "        <td>4</td>\n",
    "    </tr>\n",
    "    <tr>\n",
    "        <td>5</td>\n",
    "        <td>6</td>\n",
    "    </tr>\n",
    "    <tr>\n",
    "        <td>7</td>\n",
    "        <td>8</td>\n",
    "    </tr>\n",
    "    </table>"
   ]
  },
  {
   "cell_type": "code",
   "execution_count": 22,
   "metadata": {},
   "outputs": [
    {
     "name": "stdout",
     "output_type": "stream",
     "text": [
      "[[1 2]\n",
      " [3 4]\n",
      " [5 6]\n",
      " [7 8]]\n",
      "\n",
      "\n",
      "[[1 3 5 7]\n",
      " [2 4 6 8]]\n"
     ]
    }
   ],
   "source": [
    "#20. Use list comprehension to find transpose of the matrix given below.\n",
    "# type your code here\n",
    "\n",
    "matrix = np.array([[1,2],[3,4],[5,6],[7,8]])\n",
    "print(matrix)\n",
    "print(\"\\n\")\n",
    "print(matrix.transpose())\n",
    "\n",
    "\n"
   ]
  }
 ],
 "metadata": {
  "kernelspec": {
   "display_name": "Python 3 (ipykernel)",
   "language": "python",
   "name": "python3"
  },
  "language_info": {
   "codemirror_mode": {
    "name": "ipython",
    "version": 3
   },
   "file_extension": ".py",
   "mimetype": "text/x-python",
   "name": "python",
   "nbconvert_exporter": "python",
   "pygments_lexer": "ipython3",
   "version": "3.9.16"
  }
 },
 "nbformat": 4,
 "nbformat_minor": 2
}
