{
 "cells": [
  {
   "cell_type": "markdown",
   "id": "7addeca3",
   "metadata": {},
   "source": [
    "<table align=\"left\" width=100%>\n",
    "    <tr>\n",
    "        <td width=\"12%\">\n",
    "            <img src=\"../../images/RA_Logo.png\">\n",
    "        </td>\n",
    "        <td>\n",
    "            <div align=\"center\">\n",
    "                <font color=\"#21618C\" size=8px>\n",
    "                  <b> QR Code Generation - 4 </b>\n",
    "                </font>\n",
    "            </div>\n",
    "        </td>\n",
    "    </tr>\n",
    "</table>"
   ]
  },
  {
   "cell_type": "markdown",
   "id": "e0e1e71a",
   "metadata": {},
   "source": [
    "<table align=\"left\">\n",
    "  <td>\n",
    "    <a href=\"https://colab.research.google.com/github/vidyadharbendre/learn_advanced_python_using_examples/blob/main/notebooks/OOPs/2_04_Class_QR_Code_Generator.ipynb\" target=\"_parent\"><img src=\"https://colab.research.google.com/assets/colab-badge.svg\" alt=\"Open In Colab\"/></a>\n",
    "  </td>\n",
    "  <td>\n",
    "    <a target=\"_blank\" href=\"https://kaggle.com/kernels/welcome?src=https://github.com/vidyadharbendre/learn_advanced_python_using_examples/blob/main/notebooks/OOPs/2_04_Class_QR_Code_Generator.ipynb\"><img src=\"https://kaggle.com/static/images/open-in-kaggle.svg\" /></a>\n",
    "  </td>\n",
    "</table>"
   ]
  },
  {
   "cell_type": "code",
   "execution_count": 8,
   "id": "fd426dfc",
   "metadata": {},
   "outputs": [],
   "source": [
    "import qrcode\n",
    "\n",
    "class QRCodeGenerator:\n",
    "    def __init__(self, url, filename=\"qrcode.png\"):\n",
    "        self.url = url\n",
    "        self.filename = filename\n",
    "\n",
    "    def generate_qr_code(self):\n",
    "        qr = qrcode.QRCode(\n",
    "            version=1,\n",
    "            error_correction=qrcode.constants.ERROR_CORRECT_L,\n",
    "            box_size=10,\n",
    "            border=4,\n",
    "        )\n",
    "        qr.add_data(self.url)\n",
    "        qr.make(fit=True)\n",
    "        img = qr.make_image(fill='black', back_color='white')\n",
    "        img.save(self.filename)\n",
    "        print(f\"QR Code saved as {self.filename}\")"
   ]
  },
  {
   "cell_type": "code",
   "execution_count": 11,
   "id": "d81242df",
   "metadata": {},
   "outputs": [],
   "source": [
    "# import os\n",
    "# import unittest\n",
    "# # from qrcode_generator.qr_code import QRCodeGenerator\n",
    "\n",
    "# class TestQRCodeGenerator(unittest.TestCase):\n",
    "#     def test_generate_qr_code(self):\n",
    "#         url = \"https://www.example.com\"\n",
    "#         filename = \"example.png\"\n",
    "#         qr_generator = QRCodeGenerator(url, filename)\n",
    "#         qr_generator.generate_qr_code()\n",
    "#         # Check if file is created\n",
    "#         self.assertTrue(os.path.exists(filename))\n",
    "#         # Clean up\n",
    "#         os.remove(filename)\n",
    "\n",
    "# if __name__ == \"__main__\":\n",
    "#     unittest.main()"
   ]
  },
  {
   "cell_type": "code",
   "execution_count": 4,
   "id": "a8a11c70",
   "metadata": {},
   "outputs": [
    {
     "name": "stdout",
     "output_type": "stream",
     "text": [
      "Enter the URL for the QR code: http://www.example.com\n",
      "Enter the filename for the QR code (with .png extension): example\n",
      "QR Code saved as example\n"
     ]
    }
   ],
   "source": [
    "#from qrcode_generator.qr_code import QRCodeGenerator\n",
    "\n",
    "def main():\n",
    "    url = input(\"Enter the URL for the QR code: \")\n",
    "    filename = input(\"Enter the filename for the QR code (with .png extension): \")\n",
    "    qr_generator = QRCodeGenerator(url, filename)\n",
    "    qr_generator.generate_qr_code()\n",
    "\n",
    "if __name__ == \"__main__\":\n",
    "    main()\n"
   ]
  },
  {
   "cell_type": "code",
   "execution_count": null,
   "id": "0c8ff854",
   "metadata": {},
   "outputs": [],
   "source": []
  }
 ],
 "metadata": {
  "kernelspec": {
   "display_name": "Python 3 (ipykernel)",
   "language": "python",
   "name": "python3"
  },
  "language_info": {
   "codemirror_mode": {
    "name": "ipython",
    "version": 3
   },
   "file_extension": ".py",
   "mimetype": "text/x-python",
   "name": "python",
   "nbconvert_exporter": "python",
   "pygments_lexer": "ipython3",
   "version": "3.9.16"
  }
 },
 "nbformat": 4,
 "nbformat_minor": 5
}
