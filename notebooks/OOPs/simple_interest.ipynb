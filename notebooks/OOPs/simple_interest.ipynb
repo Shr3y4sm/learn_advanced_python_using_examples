{
 "cells": [
  {
   "cell_type": "code",
   "execution_count": 4,
   "id": "c50f4fc8",
   "metadata": {},
   "outputs": [
    {
     "name": "stdout",
     "output_type": "stream",
     "text": [
      "The simple interest is: 150.0\n"
     ]
    }
   ],
   "source": [
    "# Jupyter Notebook for Simple Interest Calculation\n",
    "\n",
    "# Example function to calculate simple interest\n",
    "def calculate_simple_interest(principle, rate, time):\n",
    "    return (principle * rate * time) / 100\n",
    "\n",
    "# Example usage\n",
    "principle = 1000  # Principal amount\n",
    "rate = 5  # Annual interest rate in percentage\n",
    "time = 3  # Time period in years\n",
    "\n",
    "interest = calculate_simple_interest(principle, rate, time)\n",
    "print(f\"The simple interest is: {interest}\")\n",
    "\n",
    "# Experiment with different values and test cases here\n"
   ]
  },
  {
   "cell_type": "code",
   "execution_count": 5,
   "id": "770afe6b",
   "metadata": {},
   "outputs": [
    {
     "name": "stdout",
     "output_type": "stream",
     "text": [
      "The given principle: 1000\n",
      "The given time: 4 years\n",
      "The given rate: 2%\n",
      "The simple interest is: 80.0\n"
     ]
    }
   ],
   "source": [
    "class SimpleInterest:\n",
    "    def __init__(self, principle, time, rate):\n",
    "        \"\"\"\n",
    "        Constructor method (__init__):\n",
    "        This method is called automatically when a new SimpleInterest object is created.\n",
    "        It initializes the attributes of the SimpleInterest object.\n",
    "        \n",
    "        Parameters:\n",
    "        - principle: The principle amount.\n",
    "        - time: The time period.\n",
    "        - rate: The interest rate.\n",
    "        \"\"\"\n",
    "        self.principle = principle\n",
    "        self.time = time\n",
    "        self.rate = rate\n",
    "\n",
    "    def set_principle(self, principle):\n",
    "        \"\"\"\n",
    "        Method to set the principle.\n",
    "        \n",
    "        Parameters:\n",
    "        - principle: The new value for the principle amount.\n",
    "        \"\"\"\n",
    "        self.principle = principle\n",
    "\n",
    "    def get_principle(self):\n",
    "        \"\"\"\n",
    "        Method to get the principle amount.\n",
    "        \n",
    "        Returns:\n",
    "        - The current principle amount.\n",
    "        \"\"\"\n",
    "        return self.principle\n",
    "\n",
    "    def set_time(self, time):\n",
    "        \"\"\"\n",
    "        Method to set the time period.\n",
    "        \n",
    "        Parameters:\n",
    "        - time: The new value for the time period.\n",
    "        \"\"\"\n",
    "        self.time = time\n",
    "\n",
    "    def get_time(self):\n",
    "        \"\"\"\n",
    "        Method to get the time period.\n",
    "        \n",
    "        Returns:\n",
    "        - The current time period.\n",
    "        \"\"\"\n",
    "        return self.time\n",
    "\n",
    "    def set_rate(self, rate):\n",
    "        \"\"\"\n",
    "        Method to set the interest rate.\n",
    "        \n",
    "        Parameters:\n",
    "        - rate: The new value for the interest rate.\n",
    "        \"\"\"\n",
    "        self.rate = rate\n",
    "\n",
    "    def get_rate(self):\n",
    "        \"\"\"\n",
    "        Method to get the interest rate.\n",
    "        \n",
    "        Returns:\n",
    "        - The current interest rate.\n",
    "        \"\"\"\n",
    "        return self.rate\n",
    "\n",
    "    def calculate_simple_interest(self):\n",
    "        \"\"\"\n",
    "        Method to calculate the simple interest.\n",
    "        \n",
    "        Returns:\n",
    "        - The calculated simple interest based on the principle, time, and rate.\n",
    "        \"\"\"\n",
    "        return (self.principle * self.rate * self.time) / 100\n",
    "\n",
    "    def display_simple_interest(self):\n",
    "        \"\"\"\n",
    "        Method to display the simple interest.\n",
    "        It prints the principle, time, rate, and calculated simple interest.\n",
    "        \"\"\"\n",
    "        principle = self.get_principle()\n",
    "        time = self.get_time()\n",
    "        rate = self.get_rate()\n",
    "        interest = self.calculate_simple_interest()\n",
    "        \n",
    "        print(f\"The given principle: {principle}\")\n",
    "        print(f\"The given time: {time} years\")\n",
    "        print(f\"The given rate: {rate}%\")\n",
    "        print(f\"The simple interest is: {interest}\")\n",
    "\n",
    "# Create an instance of the SimpleInterest class\n",
    "si = SimpleInterest(1000, 4, 2)\n",
    "\n",
    "# Display the simple interest\n",
    "si.display_simple_interest()"
   ]
  },
  {
   "cell_type": "code",
   "execution_count": 10,
   "id": "8b946af8",
   "metadata": {},
   "outputs": [
    {
     "ename": "AssertionError",
     "evalue": "Initial principle should be 100",
     "output_type": "error",
     "traceback": [
      "\u001b[0;31m---------------------------------------------------------------------------\u001b[0m",
      "\u001b[0;31mAssertionError\u001b[0m                            Traceback (most recent call last)",
      "Cell \u001b[0;32mIn[10], line 17\u001b[0m\n\u001b[1;32m     13\u001b[0m     \u001b[38;5;66;03m# Test the initial simpleinterest\u001b[39;00m\n\u001b[1;32m     14\u001b[0m     \u001b[38;5;28;01massert\u001b[39;00m simint\u001b[38;5;241m.\u001b[39mcalculate_simple_interest() \u001b[38;5;241m==\u001b[39m \u001b[38;5;241m80.0\u001b[39m, \u001b[38;5;124m\"\u001b[39m\u001b[38;5;124mInitial simple interest should be 12\u001b[39m\u001b[38;5;124m\"\u001b[39m\n\u001b[0;32m---> 17\u001b[0m \u001b[43mtest_simpleinterest\u001b[49m\u001b[43m(\u001b[49m\u001b[43m)\u001b[49m\n",
      "Cell \u001b[0;32mIn[10], line 5\u001b[0m, in \u001b[0;36mtest_simpleinterest\u001b[0;34m()\u001b[0m\n\u001b[1;32m      2\u001b[0m simint \u001b[38;5;241m=\u001b[39m SimpleInterest(\u001b[38;5;241m1000\u001b[39m, \u001b[38;5;241m2\u001b[39m, \u001b[38;5;241m4\u001b[39m)\n\u001b[1;32m      4\u001b[0m \u001b[38;5;66;03m# Test the initial principle\u001b[39;00m\n\u001b[0;32m----> 5\u001b[0m \u001b[38;5;28;01massert\u001b[39;00m simint\u001b[38;5;241m.\u001b[39mget_principle \u001b[38;5;241m==\u001b[39m \u001b[38;5;241m1000\u001b[39m, \u001b[38;5;124m\"\u001b[39m\u001b[38;5;124mInitial principle should be 100\u001b[39m\u001b[38;5;124m\"\u001b[39m\n\u001b[1;32m      7\u001b[0m \u001b[38;5;66;03m# Test the initial time\u001b[39;00m\n\u001b[1;32m      8\u001b[0m \u001b[38;5;28;01massert\u001b[39;00m simint\u001b[38;5;241m.\u001b[39mget_time \u001b[38;5;241m==\u001b[39m \u001b[38;5;241m2\u001b[39m, \u001b[38;5;124m\"\u001b[39m\u001b[38;5;124mInitial time should be 2\u001b[39m\u001b[38;5;124m\"\u001b[39m\n",
      "\u001b[0;31mAssertionError\u001b[0m: Initial principle should be 100"
     ]
    }
   ],
   "source": [
    "def test_simpleinterest():\n",
    "    simint = SimpleInterest(1000, 2, 4)\n",
    "\n",
    "    # Test the initial principle\n",
    "    assert simint.get_principle == 1000, \"Initial principle should be 100\"\n",
    "\n",
    "    # Test the initial time\n",
    "    assert simint.get_time == 2, \"Initial time should be 2\"\n",
    "\n",
    "    # Test the initial rate\n",
    "    assert simint.get_rate == 4, \"Initial rate should be 4\"\n",
    "\n",
    "    # Test the initial simpleinterest\n",
    "    assert simint.calculate_simple_interest() == 80.0, \"Initial simple interest should be 12\"\n",
    "\n",
    "    \n",
    "test_simpleinterest()"
   ]
  },
  {
   "cell_type": "code",
   "execution_count": null,
   "id": "ed7ffe01",
   "metadata": {},
   "outputs": [],
   "source": []
  }
 ],
 "metadata": {
  "kernelspec": {
   "display_name": "Python 3 (ipykernel)",
   "language": "python",
   "name": "python3"
  },
  "language_info": {
   "codemirror_mode": {
    "name": "ipython",
    "version": 3
   },
   "file_extension": ".py",
   "mimetype": "text/x-python",
   "name": "python",
   "nbconvert_exporter": "python",
   "pygments_lexer": "ipython3",
   "version": "3.9.16"
  }
 },
 "nbformat": 4,
 "nbformat_minor": 5
}
