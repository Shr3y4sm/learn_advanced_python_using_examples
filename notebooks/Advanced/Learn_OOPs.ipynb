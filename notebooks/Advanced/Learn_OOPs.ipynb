{
 "cells": [
  {
   "cell_type": "markdown",
   "id": "a604d054",
   "metadata": {},
   "source": [
    "<table align=\"center\" width=100%>\n",
    "    <tr>\n",
    "        <td width=\"12%\">\n",
    "            <img src=\"../images/RA_Logo.png\">\n",
    "        </td>\n",
    "        <td>\n",
    "            <div align=\"center\">\n",
    "                <font color=\"#21618C\" size=8px>\n",
    "                    <b> OOPs using Python <br>(Day 1)\n",
    "                    </b>\n",
    "                </font>\n",
    "            </div>\n",
    "        </td>\n",
    "    </tr>\n",
    "</table>"
   ]
  },
  {
   "cell_type": "code",
   "execution_count": 24,
   "id": "23beff89",
   "metadata": {},
   "outputs": [],
   "source": [
    "class Phone:\n",
    "    def set_colour(self, colour):\n",
    "        self.colour = colour\n",
    "\n",
    "    def set_cost(self, cost):\n",
    "        self.cost = cost\n",
    "        \n",
    "    def get_colour(self):\n",
    "        return self.colour\n",
    "    \n",
    "    def make_call(self):\n",
    "        print(\"calling\")\n",
    "        \n",
    "    def play_game(self):\n",
    "        print(\"playing\")"
   ]
  },
  {
   "cell_type": "code",
   "execution_count": 25,
   "id": "263a70a3",
   "metadata": {},
   "outputs": [],
   "source": [
    "p1 = Phone()"
   ]
  },
  {
   "cell_type": "code",
   "execution_count": 26,
   "id": "e8385037",
   "metadata": {},
   "outputs": [],
   "source": [
    "p1.set_colour(\"blue\")"
   ]
  },
  {
   "cell_type": "code",
   "execution_count": 27,
   "id": "9abde77d",
   "metadata": {},
   "outputs": [
    {
     "data": {
      "text/plain": [
       "'blue'"
      ]
     },
     "execution_count": 27,
     "metadata": {},
     "output_type": "execute_result"
    }
   ],
   "source": [
    "p1.get_colour()"
   ]
  },
  {
   "cell_type": "code",
   "execution_count": 28,
   "id": "87f6bdf0",
   "metadata": {},
   "outputs": [
    {
     "name": "stdout",
     "output_type": "stream",
     "text": [
      "calling\n"
     ]
    }
   ],
   "source": [
    "p1.make_call()"
   ]
  },
  {
   "cell_type": "code",
   "execution_count": 29,
   "id": "a8d67fbb",
   "metadata": {},
   "outputs": [
    {
     "name": "stdout",
     "output_type": "stream",
     "text": [
      "playing\n"
     ]
    }
   ],
   "source": [
    "p1.play_game()"
   ]
  },
  {
   "cell_type": "code",
   "execution_count": null,
   "id": "5cff73dd",
   "metadata": {},
   "outputs": [],
   "source": []
  },
  {
   "cell_type": "code",
   "execution_count": null,
   "id": "6cbd65ab",
   "metadata": {},
   "outputs": [],
   "source": [
    "class Person:\n",
    "    def __init__(self)"
   ]
  },
  {
   "cell_type": "code",
   "execution_count": 1,
   "id": "e197d26a",
   "metadata": {},
   "outputs": [],
   "source": [
    "import math  # Import the math module for mathematical operations\n",
    "\n",
    "class Circle:\n",
    "    def __init__(self, radius):\n",
    "        \"\"\"\n",
    "        Constructor method (__init__):\n",
    "        This method is called automatically when a new Circle object is created.\n",
    "        It initializes the attributes of the Circle object.\n",
    "        \n",
    "        Parameters:\n",
    "        - radius: The radius of the circle.\n",
    "        \"\"\"\n",
    "        self.radius = radius  # Set the radius attribute to the value passed as an argument\n",
    "\n",
    "    def setRadius(self, radius):\n",
    "        \"\"\"\n",
    "        Method to set the radius of the circle.\n",
    "        \n",
    "        Parameters:\n",
    "        - radius: The new value for the radius of the circle.\n",
    "        \"\"\"\n",
    "        self.radius = radius  # Set the radius attribute to the new value\n",
    "\n",
    "    def getRadius(self):\n",
    "        \"\"\"\n",
    "        Method to get the radius of the circle.\n",
    "        It prints the value of the radius attribute.\n",
    "        \"\"\"\n",
    "        print(self.radius)  # Print the value of the radius attribute\n",
    "\n",
    "    def calculateArea(self):\n",
    "        \"\"\"\n",
    "        Method to calculate the area of the circle.\n",
    "        \n",
    "        Returns:\n",
    "        - The area of the circle calculated based on the radius.\n",
    "        \"\"\"\n",
    "        return math.pi * self.radius ** 2  # Calculate and return the area of the circle\n",
    "\n",
    "    def displayArea(self):\n",
    "        \"\"\"\n",
    "        Method to display the area of the circle.\n",
    "        It calls the getRadius method to print the radius, calculates the area, and prints it.\n",
    "        \"\"\"\n",
    "        self.getRadius()  # Call the getRadius method to print the radius\n",
    "        area = self.calculateArea()  # Calculate the area of the circle\n",
    "        print(\"Area of the circle is:\", area)  # Print the calculated area\n"
   ]
  },
  {
   "cell_type": "code",
   "execution_count": 2,
   "id": "24723945",
   "metadata": {},
   "outputs": [
    {
     "name": "stdout",
     "output_type": "stream",
     "text": [
      "1\n",
      "Area of the circle is: 3.141592653589793\n"
     ]
    }
   ],
   "source": [
    "circleObj = Circle(1)\n",
    "circleObj.displayArea()"
   ]
  },
  {
   "cell_type": "code",
   "execution_count": 3,
   "id": "1e36d39e",
   "metadata": {},
   "outputs": [
    {
     "name": "stdout",
     "output_type": "stream",
     "text": [
      "1\n",
      "Area of the circle is: 3.141592653589793\n",
      "10\n",
      "Area of the circle is: 314.1592653589793\n"
     ]
    }
   ],
   "source": [
    "circleObj = Circle(1)\n",
    "circleObj.displayArea()\n",
    "circleObj.setRadius(10)\n",
    "circleObj.displayArea()"
   ]
  },
  {
   "cell_type": "code",
   "execution_count": 4,
   "id": "56381839",
   "metadata": {},
   "outputs": [
    {
     "name": "stdout",
     "output_type": "stream",
     "text": [
      "3\n"
     ]
    }
   ],
   "source": [
    "circleObj.setRadius(3)\n",
    "circleObj.getRadius()"
   ]
  },
  {
   "cell_type": "code",
   "execution_count": 5,
   "id": "ff939c4b",
   "metadata": {},
   "outputs": [],
   "source": [
    "circleObj.setRadius(4)"
   ]
  },
  {
   "cell_type": "code",
   "execution_count": 9,
   "id": "99164683",
   "metadata": {},
   "outputs": [],
   "source": []
  },
  {
   "cell_type": "code",
   "execution_count": 10,
   "id": "75f646a2",
   "metadata": {},
   "outputs": [],
   "source": []
  },
  {
   "cell_type": "code",
   "execution_count": null,
   "id": "7f8f7632",
   "metadata": {},
   "outputs": [],
   "source": []
  }
 ],
 "metadata": {
  "kernelspec": {
   "display_name": "Python 3 (ipykernel)",
   "language": "python",
   "name": "python3"
  },
  "language_info": {
   "codemirror_mode": {
    "name": "ipython",
    "version": 3
   },
   "file_extension": ".py",
   "mimetype": "text/x-python",
   "name": "python",
   "nbconvert_exporter": "python",
   "pygments_lexer": "ipython3",
   "version": "3.9.16"
  }
 },
 "nbformat": 4,
 "nbformat_minor": 5
}
