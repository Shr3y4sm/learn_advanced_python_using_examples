{
 "cells": [
  {
   "cell_type": "markdown",
   "id": "eb6459ee",
   "metadata": {},
   "source": [
    "<table align=\"left\" width=100%>\n",
    "    <tr>\n",
    "        <td width=\"12%\">\n",
    "            <img src=\"../../images/RA_Logo.png\">\n",
    "        </td>\n",
    "        <td>\n",
    "            <div align=\"center\">\n",
    "                <font color=\"#21618C\" size=8px>\n",
    "                  <b> Area Of Circle - 4 </b>\n",
    "                </font>\n",
    "            </div>\n",
    "        </td>\n",
    "    </tr>\n",
    "</table>"
   ]
  },
  {
   "cell_type": "markdown",
   "id": "36c1bc1b",
   "metadata": {},
   "source": [
    "<table align=\"left\">\n",
    "  <td>\n",
    "    <a href=\"https://colab.research.google.com/github/vidyadharbendre/learn_advanced_python_using_examples/blob/main/notebooks/OOPs/1_04_Class_Find_Area_Circle.ipynb\" target=\"_parent\"><img src=\"https://colab.research.google.com/assets/colab-badge.svg\" alt=\"Open In Colab\"/></a>\n",
    "  </td>\n",
    "  <td>\n",
    "    <a target=\"_blank\" href=\"https://kaggle.com/kernels/welcome?src=https://github.com/vidyadharbendre/learn_advanced_python_using_examples/blob/main/notebooks/OOPs/1_04_Class_Find_Area_Circle.ipynb\"><img src=\"https://kaggle.com/static/images/open-in-kaggle.svg\" /></a>\n",
    "  </td>\n",
    "</table>"
   ]
  },
  {
   "cell_type": "code",
   "execution_count": 10,
   "id": "9b6ed57f",
   "metadata": {},
   "outputs": [
    {
     "name": "stdout",
     "output_type": "stream",
     "text": [
      "Area of circle with radius 1: 3.141592653589793\n"
     ]
    }
   ],
   "source": [
    "import math\n",
    "\n",
    "class Circle:\n",
    "    def __init__(self, radius):\n",
    "        self.radius = radius\n",
    "    \n",
    "    def area(self):\n",
    "        return math.pi * self.radius * self.radius\n",
    "\n",
    "# Test the Circle class\n",
    "circle = Circle(1)\n",
    "print(f\"Area of circle with radius 1: {circle.area()}\")"
   ]
  },
  {
   "cell_type": "code",
   "execution_count": 11,
   "id": "255ed0d7",
   "metadata": {},
   "outputs": [
    {
     "name": "stdout",
     "output_type": "stream",
     "text": [
      "Perimeter of circle with radius 1: 62.83185307179586\n"
     ]
    }
   ],
   "source": [
    "class ExtendedCircle(Circle):\n",
    "    def perimeter(self):\n",
    "        return 2 * math.pi * self.radius\n",
    "\n",
    "# Test the ExtendedCircle class\n",
    "extended_circle = ExtendedCircle(10)\n",
    "print(f\"Perimeter of circle with radius 1: {extended_circle.perimeter()}\")"
   ]
  },
  {
   "cell_type": "code",
   "execution_count": 13,
   "id": "4224adcf",
   "metadata": {},
   "outputs": [
    {
     "name": "stderr",
     "output_type": "stream",
     "text": [
      "test_area (__main__.TestCircle) ... ok\n",
      "test_perimeter (__main__.TestExtendedCircle) ... ok\n",
      "\n",
      "----------------------------------------------------------------------\n",
      "Ran 2 tests in 0.008s\n",
      "\n",
      "OK\n"
     ]
    },
    {
     "data": {
      "text/plain": [
       "<unittest.main.TestProgram at 0x10366bdc0>"
      ]
     },
     "execution_count": 13,
     "metadata": {},
     "output_type": "execute_result"
    }
   ],
   "source": [
    "import unittest\n",
    "\n",
    "class TestCircle(unittest.TestCase):\n",
    "    def test_area(self):\n",
    "        circle = Circle(1)\n",
    "        self.assertAlmostEqual(circle.area(), 3.141592653589793)\n",
    "\n",
    "class TestExtendedCircle(unittest.TestCase):\n",
    "    def test_perimeter(self):\n",
    "        extended_circle = ExtendedCircle(10)\n",
    "        self.assertAlmostEqual(extended_circle.perimeter(), 62.83185307179586)\n",
    "\n",
    "# Run the tests\n",
    "unittest.main(argv=[''], verbosity=2, exit=False)"
   ]
  },
  {
   "cell_type": "code",
   "execution_count": 14,
   "id": "d39091d7",
   "metadata": {},
   "outputs": [
    {
     "name": "stderr",
     "output_type": "stream",
     "text": [
      "test_area (__main__.TestCircle) ... ok\n",
      "test_perimeter (__main__.TestExtendedCircle) ... ok\n",
      "\n",
      "----------------------------------------------------------------------\n",
      "Ran 2 tests in 0.005s\n",
      "\n",
      "OK\n"
     ]
    },
    {
     "name": "stdout",
     "output_type": "stream",
     "text": [
      "Area of circle with radius 5: 78.53981633974483\n",
      "Perimeter of circle with radius 5: 31.41592653589793\n"
     ]
    },
    {
     "data": {
      "text/plain": [
       "<unittest.main.TestProgram at 0x103602700>"
      ]
     },
     "execution_count": 14,
     "metadata": {},
     "output_type": "execute_result"
    }
   ],
   "source": [
    "import math\n",
    "import unittest\n",
    "\n",
    "# Circle class\n",
    "class Circle:\n",
    "    def __init__(self, radius):\n",
    "        self.radius = radius\n",
    "    \n",
    "    def area(self):\n",
    "        return math.pi * self.radius * self.radius\n",
    "\n",
    "# ExtendedCircle class\n",
    "class ExtendedCircle(Circle):\n",
    "    def perimeter(self):\n",
    "        return 2 * math.pi * self.radius\n",
    "\n",
    "# Testing Circle class\n",
    "circle = Circle(5)\n",
    "print(f\"Area of circle with radius 5: {circle.area()}\")\n",
    "\n",
    "# Testing ExtendedCircle class\n",
    "extended_circle = ExtendedCircle(5)\n",
    "print(f\"Perimeter of circle with radius 5: {extended_circle.perimeter()}\")\n",
    "\n",
    "# Unit tests\n",
    "class TestCircle(unittest.TestCase):\n",
    "    def test_area(self):\n",
    "        circle = Circle(5)\n",
    "        self.assertAlmostEqual(circle.area(), 78.53981633974483)\n",
    "\n",
    "class TestExtendedCircle(unittest.TestCase):\n",
    "    def test_perimeter(self):\n",
    "        extended_circle = ExtendedCircle(5)\n",
    "        self.assertAlmostEqual(extended_circle.perimeter(), 31.41592653589793)\n",
    "\n",
    "# Run the tests\n",
    "unittest.main(argv=[''], verbosity=2, exit=False)"
   ]
  },
  {
   "cell_type": "code",
   "execution_count": null,
   "id": "b79a39ac",
   "metadata": {},
   "outputs": [],
   "source": []
  }
 ],
 "metadata": {
  "kernelspec": {
   "display_name": "Python 3 (ipykernel)",
   "language": "python",
   "name": "python3"
  },
  "language_info": {
   "codemirror_mode": {
    "name": "ipython",
    "version": 3
   },
   "file_extension": ".py",
   "mimetype": "text/x-python",
   "name": "python",
   "nbconvert_exporter": "python",
   "pygments_lexer": "ipython3",
   "version": "3.9.16"
  }
 },
 "nbformat": 4,
 "nbformat_minor": 5
}
