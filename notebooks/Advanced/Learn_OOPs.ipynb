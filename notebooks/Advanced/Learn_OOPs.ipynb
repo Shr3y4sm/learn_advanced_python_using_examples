{
 "cells": [
  {
   "cell_type": "markdown",
   "id": "0a4fd460",
   "metadata": {},
   "source": [
    "<table align=\"center\" width=100%>\n",
    "    <tr>\n",
    "        <td width=\"12%\">\n",
    "            <img src=\"../images/RA_Logo.png\">\n",
    "        </td>\n",
    "        <td>\n",
    "            <div align=\"center\">\n",
    "                <font color=\"#21618C\" size=8px>\n",
    "                    <b> OOPs using Python <br>(Day 1)\n",
    "                    </b>\n",
    "                </font>\n",
    "            </div>\n",
    "        </td>\n",
    "    </tr>\n",
    "</table>"
   ]
  },
  {
   "cell_type": "code",
   "execution_count": null,
   "id": "7819aa8b",
   "metadata": {},
   "outputs": [],
   "source": [
    "class Person:\n",
    "    def __init__(self)"
   ]
  },
  {
   "cell_type": "code",
   "execution_count": 1,
   "id": "e197d26a",
   "metadata": {},
   "outputs": [],
   "source": [
    "import math  # Import the math module for mathematical operations\n",
    "\n",
    "class Circle:\n",
    "    def __init__(self, radius):\n",
    "        \"\"\"\n",
    "        Constructor method (__init__):\n",
    "        This method is called automatically when a new Circle object is created.\n",
    "        It initializes the attributes of the Circle object.\n",
    "        \n",
    "        Parameters:\n",
    "        - radius: The radius of the circle.\n",
    "        \"\"\"\n",
    "        self.radius = radius  # Set the radius attribute to the value passed as an argument\n",
    "\n",
    "    def setRadius(self, radius):\n",
    "        \"\"\"\n",
    "        Method to set the radius of the circle.\n",
    "        \n",
    "        Parameters:\n",
    "        - radius: The new value for the radius of the circle.\n",
    "        \"\"\"\n",
    "        self.radius = radius  # Set the radius attribute to the new value\n",
    "\n",
    "    def getRadius(self):\n",
    "        \"\"\"\n",
    "        Method to get the radius of the circle.\n",
    "        It prints the value of the radius attribute.\n",
    "        \"\"\"\n",
    "        print(self.radius)  # Print the value of the radius attribute\n",
    "\n",
    "    def calculateArea(self):\n",
    "        \"\"\"\n",
    "        Method to calculate the area of the circle.\n",
    "        \n",
    "        Returns:\n",
    "        - The area of the circle calculated based on the radius.\n",
    "        \"\"\"\n",
    "        return math.pi * self.radius ** 2  # Calculate and return the area of the circle\n",
    "\n",
    "    def displayArea(self):\n",
    "        \"\"\"\n",
    "        Method to display the area of the circle.\n",
    "        It calls the getRadius method to print the radius, calculates the area, and prints it.\n",
    "        \"\"\"\n",
    "        self.getRadius()  # Call the getRadius method to print the radius\n",
    "        area = self.calculateArea()  # Calculate the area of the circle\n",
    "        print(\"Area of the circle is:\", area)  # Print the calculated area\n"
   ]
  },
  {
   "cell_type": "code",
   "execution_count": 2,
   "id": "24723945",
   "metadata": {},
   "outputs": [
    {
     "name": "stdout",
     "output_type": "stream",
     "text": [
      "1\n",
      "Area of the circle is: 3.141592653589793\n"
     ]
    }
   ],
   "source": [
    "circleObj = Circle(1)\n",
    "circleObj.displayArea()"
   ]
  },
  {
   "cell_type": "code",
   "execution_count": 3,
   "id": "1e36d39e",
   "metadata": {},
   "outputs": [
    {
     "name": "stdout",
     "output_type": "stream",
     "text": [
      "1\n",
      "Area of the circle is: 3.141592653589793\n",
      "10\n",
      "Area of the circle is: 314.1592653589793\n"
     ]
    }
   ],
   "source": [
    "circleObj = Circle(1)\n",
    "circleObj.displayArea()\n",
    "circleObj.setRadius(10)\n",
    "circleObj.displayArea()"
   ]
  },
  {
   "cell_type": "code",
   "execution_count": 4,
   "id": "56381839",
   "metadata": {},
   "outputs": [
    {
     "name": "stdout",
     "output_type": "stream",
     "text": [
      "3\n"
     ]
    }
   ],
   "source": [
    "circleObj.setRadius(3)\n",
    "circleObj.getRadius()"
   ]
  },
  {
   "cell_type": "code",
   "execution_count": 5,
   "id": "ff939c4b",
   "metadata": {},
   "outputs": [],
   "source": [
    "circleObj.setRadius(4)"
   ]
  },
  {
   "cell_type": "code",
   "execution_count": null,
   "id": "99164683",
   "metadata": {},
   "outputs": [],
   "source": []
  }
 ],
 "metadata": {
  "kernelspec": {
   "display_name": "Python 3 (ipykernel)",
   "language": "python",
   "name": "python3"
  },
  "language_info": {
   "codemirror_mode": {
    "name": "ipython",
    "version": 3
   },
   "file_extension": ".py",
   "mimetype": "text/x-python",
   "name": "python",
   "nbconvert_exporter": "python",
   "pygments_lexer": "ipython3",
   "version": "3.9.16"
  }
 },
 "nbformat": 4,
 "nbformat_minor": 5
}
