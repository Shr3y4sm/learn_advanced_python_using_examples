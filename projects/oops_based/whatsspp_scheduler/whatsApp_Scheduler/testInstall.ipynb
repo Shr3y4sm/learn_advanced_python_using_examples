{
 "cells": [
  {
   "cell_type": "code",
   "execution_count": 2,
   "metadata": {},
   "outputs": [
    {
     "name": "stdout",
     "output_type": "stream",
     "text": [
      "In 11 Seconds WhatsApp will open and after 10 Seconds Message will be Delivered!\n",
      "Message scheduled to be sent to +919740017751 at 14:43\n"
     ]
    }
   ],
   "source": [
    "import pywhatkit as kit\n",
    "import datetime\n",
    "\n",
    "# Get the current time\n",
    "now = datetime.datetime.now()\n",
    "\n",
    "# Calculate the time to send the message (e.g., 1 minute from now)\n",
    "send_time = now + datetime.timedelta(minutes=1)\n",
    "hour = send_time.hour\n",
    "minute = send_time.minute\n",
    "\n",
    "# Phone number in the format \"+[country code][phone number]\"\n",
    "phone_number = \"+919740017751\"\n",
    "message = \"Hello, this is a test message_6.\"\n",
    "\n",
    "# Schedule the message to be sent with a minimal wait time\n",
    "try:\n",
    "    kit.sendwhatmsg(phone_number, message, hour, minute, wait_time=10, tab_close=True, close_time=3)\n",
    "    print(f\"Message scheduled to be sent to {phone_number} at {hour}:{minute}\")\n",
    "except Exception as e:\n",
    "    print(f\"An error occurred: {e}\")"
   ]
  },
  {
   "cell_type": "code",
   "execution_count": null,
   "metadata": {},
   "outputs": [],
   "source": []
  }
 ],
 "metadata": {
  "kernelspec": {
   "display_name": "base",
   "language": "python",
   "name": "python3"
  },
  "language_info": {
   "codemirror_mode": {
    "name": "ipython",
    "version": 3
   },
   "file_extension": ".py",
   "mimetype": "text/x-python",
   "name": "python",
   "nbconvert_exporter": "python",
   "pygments_lexer": "ipython3",
   "version": "3.9.16"
  }
 },
 "nbformat": 4,
 "nbformat_minor": 2
}
