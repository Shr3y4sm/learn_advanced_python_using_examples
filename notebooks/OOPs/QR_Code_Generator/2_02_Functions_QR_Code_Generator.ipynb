{
 "cells": [
  {
   "cell_type": "markdown",
   "id": "22798de6",
   "metadata": {},
   "source": [
    "<table align=\"left\" width=100%>\n",
    "    <tr>\n",
    "        <td width=\"12%\">\n",
    "            <img src=\"../../images/RA_Logo.png\">\n",
    "        </td>\n",
    "        <td>\n",
    "            <div align=\"center\">\n",
    "                <font color=\"#21618C\" size=8px>\n",
    "                  <b> QR Code Generation - 2 </b>\n",
    "                </font>\n",
    "            </div>\n",
    "        </td>\n",
    "    </tr>\n",
    "</table>"
   ]
  },
  {
   "cell_type": "markdown",
   "id": "15737f9d",
   "metadata": {},
   "source": [
    "<table align=\"left\">\n",
    "  <td>\n",
    "    <a href=\"https://colab.research.google.com/github/vidyadharbendre/learn_advanced_python_using_examples/blob/main/notebooks/OOPs/2_02_Functions_QR_Code_Generator.ipynb\" target=\"_parent\"><img src=\"https://colab.research.google.com/assets/colab-badge.svg\" alt=\"Open In Colab\"/></a>\n",
    "  </td>\n",
    "  <td>\n",
    "    <a target=\"_blank\" href=\"https://kaggle.com/kernels/welcome?src=https://github.com/vidyadharbendre/learn_advanced_python_using_examples/blob/main/notebooks/OOPs/2_02_Functions_QR_Code_Generator.ipynb\"><img src=\"https://kaggle.com/static/images/open-in-kaggle.svg\" /></a>\n",
    "  </td>\n",
    "</table>"
   ]
  },
  {
   "cell_type": "code",
   "execution_count": 1,
   "id": "47b92dcd",
   "metadata": {},
   "outputs": [
    {
     "ename": "ModuleNotFoundError",
     "evalue": "No module named 'qrcode'",
     "output_type": "error",
     "traceback": [
      "\u001b[0;31m---------------------------------------------------------------------------\u001b[0m",
      "\u001b[0;31mModuleNotFoundError\u001b[0m                       Traceback (most recent call last)",
      "Cell \u001b[0;32mIn[1], line 1\u001b[0m\n\u001b[0;32m----> 1\u001b[0m \u001b[38;5;28;01mimport\u001b[39;00m \u001b[38;5;21;01mqrcode\u001b[39;00m\n",
      "\u001b[0;31mModuleNotFoundError\u001b[0m: No module named 'qrcode'"
     ]
    }
   ],
   "source": [
    "import qrcode"
   ]
  },
  {
   "cell_type": "code",
   "execution_count": 2,
   "id": "02bc197c",
   "metadata": {},
   "outputs": [],
   "source": [
    "def create_qr_code(URL, filename=\"qrcode.png\"):\n",
    "    qr = qrcode.QRCode(\n",
    "        version=1,\n",
    "        error_correction=qrcode.constants.ERROR_CORRECT_L,\n",
    "        box_size=10,\n",
    "        border=4,\n",
    "    )\n",
    "    qr.add_data(URL)\n",
    "    qr.make(fit=True)\n",
    "    img = qr.make_image(fill='black', back_color='white')\n",
    "    img.save(filename)"
   ]
  },
  {
   "cell_type": "code",
   "execution_count": 3,
   "id": "41819a02",
   "metadata": {},
   "outputs": [],
   "source": [
    "# Example usage\n",
    "create_qr_code(\"file:///Users/vidyadharbendre/workspace/learn_computer_vision_using_examples/modules/module_1/concepts/24_pixel_resolution_README.md\", \"pixel_resolution_qrcode.png\")"
   ]
  },
  {
   "cell_type": "code",
   "execution_count": 4,
   "id": "82c44c22",
   "metadata": {},
   "outputs": [
    {
     "name": "stdout",
     "output_type": "stream",
     "text": [
      "total 32\r\n",
      "drwxr-xr-x   7 vidyadharbendre  staff   224 Jul 31 14:04 \u001b[34m.\u001b[m\u001b[m\r\n",
      "drwxr-xr-x  12 vidyadharbendre  staff   384 Jul 30 18:59 \u001b[34m..\u001b[m\u001b[m\r\n",
      "drwxr-xr-x@  3 vidyadharbendre  staff    96 Jul 31 14:04 \u001b[34m.ipynb_checkpoints\u001b[m\u001b[m\r\n",
      "-rw-r--r--@  1 vidyadharbendre  staff  3886 Jun 14 11:22 2_01_No_Functions_QR_Code_Generator.ipynb\r\n",
      "-rw-r--r--@  1 vidyadharbendre  staff  2911 Jun 14 10:29 2_02_Functions_QR_Code_Generator.ipynb\r\n",
      "-rw-r--r--@  1 vidyadharbendre  staff  3369 Jul 31 14:04 2_03_Class_QR_Code_Generator.ipynb\r\n",
      "-rw-r--r--@  1 vidyadharbendre  staff   597 Jul 31 14:05 example_qrcode.png\r\n"
     ]
    }
   ],
   "source": [
    "!ls -la"
   ]
  },
  {
   "cell_type": "code",
   "execution_count": null,
   "id": "a2131042",
   "metadata": {},
   "outputs": [],
   "source": []
  }
 ],
 "metadata": {
  "kernelspec": {
   "display_name": "Python 3 (ipykernel)",
   "language": "python",
   "name": "python3"
  },
  "language_info": {
   "codemirror_mode": {
    "name": "ipython",
    "version": 3
   },
   "file_extension": ".py",
   "mimetype": "text/x-python",
   "name": "python",
   "nbconvert_exporter": "python",
   "pygments_lexer": "ipython3",
   "version": "3.9.16"
  }
 },
 "nbformat": 4,
 "nbformat_minor": 5
}
