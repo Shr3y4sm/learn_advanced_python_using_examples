{
 "cells": [
  {
   "cell_type": "code",
   "execution_count": 2,
   "id": "842ea559",
   "metadata": {},
   "outputs": [
    {
     "name": "stdout",
     "output_type": "stream",
     "text": [
      "Hi Vidyadhar\n"
     ]
    }
   ],
   "source": [
    "# Object-Oriented Programming (OOP) approach\n",
    "\n",
    "class Greeter:\n",
    "    \"\"\"\n",
    "    A simple Greeter class that takes a name and prints a greeting.\n",
    "    \"\"\"\n",
    "\n",
    "    def __init__(self, name):\n",
    "        \"\"\"\n",
    "        Initializes the Greeter with a name.\n",
    "        :param name: The name of the person to greet.\n",
    "        \"\"\"\n",
    "        self.name = name\n",
    "\n",
    "    def print_hi(self):\n",
    "        \"\"\"\n",
    "        Prints a greeting message.\n",
    "        \"\"\"\n",
    "        print(f'Hi {self.name}')\n",
    "\n",
    "# Create an object of Greeter class\n",
    "greeter = Greeter(\"Vidyadhar\")\n",
    "greeter.print_hi()\n"
   ]
  },
  {
   "cell_type": "code",
   "execution_count": 7,
   "id": "1f5b28be",
   "metadata": {},
   "outputs": [
    {
     "name": "stdout",
     "output_type": "stream",
     "text": [
      "Greeter_Demo.ipynb    greeter_package.ipynb\r\n"
     ]
    }
   ],
   "source": [
    "!ls"
   ]
  },
  {
   "cell_type": "code",
   "execution_count": 13,
   "id": "723cff0a",
   "metadata": {},
   "outputs": [
    {
     "name": "stdout",
     "output_type": "stream",
     "text": [
      "Greeter_Demo.ipynb\r\n"
     ]
    }
   ],
   "source": [
    "!ls"
   ]
  },
  {
   "cell_type": "code",
   "execution_count": 26,
   "id": "99b8d7a9",
   "metadata": {},
   "outputs": [],
   "source": [
    "import sys\n",
    "import os\n",
    "\n",
    "# Get the parent directory of 'notebooks/' and add it to sys.path\n",
    "sys.path.append(os.path.abspath(\"..\"))"
   ]
  },
  {
   "cell_type": "code",
   "execution_count": 27,
   "id": "c75f0532",
   "metadata": {},
   "outputs": [
    {
     "name": "stdout",
     "output_type": "stream",
     "text": [
      "Hi Poornima\n"
     ]
    }
   ],
   "source": [
    "# Importing Greeter class from the package\n",
    "from greeter_package import Greeter\n",
    "\n",
    "# Creating an object from the package\n",
    "greeter = Greeter(\"Poornima\")\n",
    "\n",
    "# Calling the method from the package\n",
    "greeter.print_hi()"
   ]
  },
  {
   "cell_type": "code",
   "execution_count": null,
   "id": "82411253",
   "metadata": {},
   "outputs": [],
   "source": []
  }
 ],
 "metadata": {
  "kernelspec": {
   "display_name": "Python 3 (ipykernel)",
   "language": "python",
   "name": "python3"
  },
  "language_info": {
   "codemirror_mode": {
    "name": "ipython",
    "version": 3
   },
   "file_extension": ".py",
   "mimetype": "text/x-python",
   "name": "python",
   "nbconvert_exporter": "python",
   "pygments_lexer": "ipython3",
   "version": "3.9.16"
  }
 },
 "nbformat": 4,
 "nbformat_minor": 5
}
