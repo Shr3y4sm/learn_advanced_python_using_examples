{
 "cells": [
  {
   "cell_type": "markdown",
   "id": "a1808a50",
   "metadata": {},
   "source": [
    "<table align=\"left\" width=100%>\n",
    "    <tr>\n",
    "        <td width=\"12%\">\n",
    "            <img src=\"../images/RA_Logo.png\">\n",
    "        </td>\n",
    "        <td>\n",
    "            <div align=\"center\">\n",
    "                <font color=\"#21618C\" size=8px>\n",
    "                  <b> Area Of Circle - 1 </b>\n",
    "                </font>\n",
    "            </div>\n",
    "        </td>\n",
    "    </tr>\n",
    "</table>"
   ]
  },
  {
   "cell_type": "markdown",
   "id": "ba5d2772",
   "metadata": {},
   "source": [
    "<table align=\"left\">\n",
    "  <td>\n",
    "    <a href=\"https://colab.research.google.com/github/vidyadharbendre/learn_advanced_python_using_examples/blob/main/notebooks/OOPs/1_01_No_Functions_Find_Area_Circle.ipynb\" target=\"_parent\"><img src=\"https://colab.research.google.com/assets/colab-badge.svg\" alt=\"Open In Colab\"/></a>\n",
    "  </td>\n",
    "  <td>\n",
    "    <a target=\"_blank\" href=\"https://kaggle.com/kernels/welcome?src=https://github.com/vidyadharbendre/learn_advanced_python_using_examples/blob/main/notebooks/OOPs/1_01_No_Functions_Find_Area_Circle.ipynb\"><img src=\"https://kaggle.com/static/images/open-in-kaggle.svg\" /></a>\n",
    "  </td>\n",
    "</table>"
   ]
  },
  {
   "cell_type": "code",
   "execution_count": 1,
   "id": "eeb3e1c8",
   "metadata": {},
   "outputs": [],
   "source": [
    "# Calculate the area of a circle without using functions"
   ]
  },
  {
   "cell_type": "code",
   "execution_count": 2,
   "id": "8aea62e9",
   "metadata": {},
   "outputs": [],
   "source": [
    "import math"
   ]
  },
  {
   "cell_type": "code",
   "execution_count": 3,
   "id": "58c988d7",
   "metadata": {},
   "outputs": [
    {
     "name": "stdout",
     "output_type": "stream",
     "text": [
      "Enter the radius of the circle: 1\n"
     ]
    }
   ],
   "source": [
    "# Input radius\n",
    "radius = float(input(\"Enter the radius of the circle: \"))"
   ]
  },
  {
   "cell_type": "code",
   "execution_count": 4,
   "id": "a6bb0e89",
   "metadata": {},
   "outputs": [],
   "source": [
    "# Calculate area\n",
    "area = math.pi * radius * radius"
   ]
  },
  {
   "cell_type": "code",
   "execution_count": 5,
   "id": "e39c6a0c",
   "metadata": {},
   "outputs": [
    {
     "name": "stdout",
     "output_type": "stream",
     "text": [
      "The area of the circle with radius 1.0 is 3.14\n"
     ]
    }
   ],
   "source": [
    "# Display the result\n",
    "print(f\"The area of the circle with radius {radius} is {area:.2f}\")"
   ]
  },
  {
   "cell_type": "code",
   "execution_count": null,
   "id": "0d7659bc",
   "metadata": {},
   "outputs": [],
   "source": []
  }
 ],
 "metadata": {
  "kernelspec": {
   "display_name": "Python 3 (ipykernel)",
   "language": "python",
   "name": "python3"
  },
  "language_info": {
   "codemirror_mode": {
    "name": "ipython",
    "version": 3
   },
   "file_extension": ".py",
   "mimetype": "text/x-python",
   "name": "python",
   "nbconvert_exporter": "python",
   "pygments_lexer": "ipython3",
   "version": "3.9.16"
  }
 },
 "nbformat": 4,
 "nbformat_minor": 5
}
